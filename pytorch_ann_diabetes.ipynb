{
  "nbformat": 4,
  "nbformat_minor": 0,
  "metadata": {
    "colab": {
      "name": "pytorch_ann_diabetes.ipynb",
      "provenance": [],
      "collapsed_sections": []
    },
    "kernelspec": {
      "name": "python3",
      "display_name": "Python 3"
    },
    "language_info": {
      "name": "python"
    },
    "accelerator": "GPU"
  },
  "cells": [
    {
      "cell_type": "code",
      "metadata": {
        "colab": {
          "base_uri": "https://localhost:8080/"
        },
        "id": "o2z1TmXvbyeT",
        "outputId": "1312a6f9-1c5d-434b-d21f-1c63d0f526ab"
      },
      "source": [
        "from google.colab import drive\n",
        "drive.mount('/content/drive')"
      ],
      "execution_count": 4,
      "outputs": [
        {
          "output_type": "stream",
          "text": [
            "Mounted at /content/drive\n"
          ],
          "name": "stdout"
        }
      ]
    },
    {
      "cell_type": "code",
      "metadata": {
        "id": "PRbpAaUZbzlM"
      },
      "source": [
        "import pandas as pd\n",
        "df = pd.read_csv('/content/drive/MyDrive/cuda/diabetes.csv')"
      ],
      "execution_count": 5,
      "outputs": []
    },
    {
      "cell_type": "code",
      "metadata": {
        "colab": {
          "base_uri": "https://localhost:8080/",
          "height": 204
        },
        "id": "gTOVqsA8cHOf",
        "outputId": "ead2010b-d935-4e86-f0e1-cbd1407ca886"
      },
      "source": [
        "df.head()"
      ],
      "execution_count": 6,
      "outputs": [
        {
          "output_type": "execute_result",
          "data": {
            "text/html": [
              "<div>\n",
              "<style scoped>\n",
              "    .dataframe tbody tr th:only-of-type {\n",
              "        vertical-align: middle;\n",
              "    }\n",
              "\n",
              "    .dataframe tbody tr th {\n",
              "        vertical-align: top;\n",
              "    }\n",
              "\n",
              "    .dataframe thead th {\n",
              "        text-align: right;\n",
              "    }\n",
              "</style>\n",
              "<table border=\"1\" class=\"dataframe\">\n",
              "  <thead>\n",
              "    <tr style=\"text-align: right;\">\n",
              "      <th></th>\n",
              "      <th>Pregnancies</th>\n",
              "      <th>Glucose</th>\n",
              "      <th>BloodPressure</th>\n",
              "      <th>SkinThickness</th>\n",
              "      <th>Insulin</th>\n",
              "      <th>BMI</th>\n",
              "      <th>DiabetesPedigreeFunction</th>\n",
              "      <th>Age</th>\n",
              "      <th>Outcome</th>\n",
              "    </tr>\n",
              "  </thead>\n",
              "  <tbody>\n",
              "    <tr>\n",
              "      <th>0</th>\n",
              "      <td>6</td>\n",
              "      <td>148</td>\n",
              "      <td>72</td>\n",
              "      <td>35</td>\n",
              "      <td>0</td>\n",
              "      <td>33.6</td>\n",
              "      <td>0.627</td>\n",
              "      <td>50</td>\n",
              "      <td>1</td>\n",
              "    </tr>\n",
              "    <tr>\n",
              "      <th>1</th>\n",
              "      <td>1</td>\n",
              "      <td>85</td>\n",
              "      <td>66</td>\n",
              "      <td>29</td>\n",
              "      <td>0</td>\n",
              "      <td>26.6</td>\n",
              "      <td>0.351</td>\n",
              "      <td>31</td>\n",
              "      <td>0</td>\n",
              "    </tr>\n",
              "    <tr>\n",
              "      <th>2</th>\n",
              "      <td>8</td>\n",
              "      <td>183</td>\n",
              "      <td>64</td>\n",
              "      <td>0</td>\n",
              "      <td>0</td>\n",
              "      <td>23.3</td>\n",
              "      <td>0.672</td>\n",
              "      <td>32</td>\n",
              "      <td>1</td>\n",
              "    </tr>\n",
              "    <tr>\n",
              "      <th>3</th>\n",
              "      <td>1</td>\n",
              "      <td>89</td>\n",
              "      <td>66</td>\n",
              "      <td>23</td>\n",
              "      <td>94</td>\n",
              "      <td>28.1</td>\n",
              "      <td>0.167</td>\n",
              "      <td>21</td>\n",
              "      <td>0</td>\n",
              "    </tr>\n",
              "    <tr>\n",
              "      <th>4</th>\n",
              "      <td>0</td>\n",
              "      <td>137</td>\n",
              "      <td>40</td>\n",
              "      <td>35</td>\n",
              "      <td>168</td>\n",
              "      <td>43.1</td>\n",
              "      <td>2.288</td>\n",
              "      <td>33</td>\n",
              "      <td>1</td>\n",
              "    </tr>\n",
              "  </tbody>\n",
              "</table>\n",
              "</div>"
            ],
            "text/plain": [
              "   Pregnancies  Glucose  BloodPressure  ...  DiabetesPedigreeFunction  Age  Outcome\n",
              "0            6      148             72  ...                     0.627   50        1\n",
              "1            1       85             66  ...                     0.351   31        0\n",
              "2            8      183             64  ...                     0.672   32        1\n",
              "3            1       89             66  ...                     0.167   21        0\n",
              "4            0      137             40  ...                     2.288   33        1\n",
              "\n",
              "[5 rows x 9 columns]"
            ]
          },
          "metadata": {
            "tags": []
          },
          "execution_count": 6
        }
      ]
    },
    {
      "cell_type": "code",
      "metadata": {
        "colab": {
          "base_uri": "https://localhost:8080/"
        },
        "id": "2mqMXn70cIbZ",
        "outputId": "e8eb96fc-0391-44c9-f5d0-16a2d941fe94"
      },
      "source": [
        "!pip install torch"
      ],
      "execution_count": 8,
      "outputs": [
        {
          "output_type": "stream",
          "text": [
            "Requirement already satisfied: torch in /usr/local/lib/python3.7/dist-packages (1.8.1+cu101)\n",
            "Requirement already satisfied: typing-extensions in /usr/local/lib/python3.7/dist-packages (from torch) (3.7.4.3)\n",
            "Requirement already satisfied: numpy in /usr/local/lib/python3.7/dist-packages (from torch) (1.19.5)\n"
          ],
          "name": "stdout"
        }
      ]
    },
    {
      "cell_type": "code",
      "metadata": {
        "colab": {
          "base_uri": "https://localhost:8080/"
        },
        "id": "8BYZKImZcLZL",
        "outputId": "2e6c7d8c-0b58-4798-a561-3518a2d14512"
      },
      "source": [
        "import torch\n",
        "torch.cuda.is_available()"
      ],
      "execution_count": 10,
      "outputs": [
        {
          "output_type": "execute_result",
          "data": {
            "text/plain": [
              "True"
            ]
          },
          "metadata": {
            "tags": []
          },
          "execution_count": 10
        }
      ]
    },
    {
      "cell_type": "code",
      "metadata": {
        "colab": {
          "base_uri": "https://localhost:8080/"
        },
        "id": "-YQIdWfeches",
        "outputId": "dbd7797f-1bf6-4840-eb54-e90eaa968864"
      },
      "source": [
        "a = torch.rand(10000,10000)\n",
        "b = torch.rand(10000,10000)\n",
        "\n",
        "import time\n",
        "start = time.time()\n",
        "a.matmul(b)\n",
        "end = time.time()\n",
        "print(\"{} seconds\".format(end - start))"
      ],
      "execution_count": 11,
      "outputs": [
        {
          "output_type": "stream",
          "text": [
            "22.901872634887695 seconds\n"
          ],
          "name": "stdout"
        }
      ]
    },
    {
      "cell_type": "code",
      "metadata": {
        "colab": {
          "base_uri": "https://localhost:8080/"
        },
        "id": "leorjNi5cxI7",
        "outputId": "15d469a5-4673-4516-da35-269b418254b0"
      },
      "source": [
        "a = a.cuda()\n",
        "b = b.cuda()\n",
        "\n",
        "start = time.time()\n",
        "a.matmul(b)\n",
        "end = time.time()\n",
        "print(\"{} seconds\".format(end - start))\n"
      ],
      "execution_count": 12,
      "outputs": [
        {
          "output_type": "stream",
          "text": [
            "0.011850357055664062 seconds\n"
          ],
          "name": "stdout"
        }
      ]
    },
    {
      "cell_type": "code",
      "metadata": {
        "colab": {
          "base_uri": "https://localhost:8080/"
        },
        "id": "cXgmHmPIc5gf",
        "outputId": "50fc7ba1-f4bc-4c34-ca21-1266c2d1e3e2"
      },
      "source": [
        "print(type(a),type(b))"
      ],
      "execution_count": 14,
      "outputs": [
        {
          "output_type": "stream",
          "text": [
            "<class 'torch.Tensor'> <class 'torch.Tensor'>\n"
          ],
          "name": "stdout"
        }
      ]
    },
    {
      "cell_type": "code",
      "metadata": {
        "id": "dOVN1eIec9wD"
      },
      "source": [
        "X = df.drop('Outcome',axis=1)\n",
        "y = df['Outcome']\n",
        "\n",
        "from sklearn.model_selection import train_test_split\n",
        "X_train,X_test,y_train,y_test=train_test_split(X,y,test_size=0.2,random_state=0)\n",
        "\n",
        "from sklearn.preprocessing import StandardScaler\n",
        "sc = StandardScaler()\n",
        "X_train_scaled = sc.fit_transform(X_train)\n",
        "X_test_scaled = sc.transform(X_test)\n",
        "##### Creating Tensors\n",
        "X_train=torch.FloatTensor(X_train_scaled).cuda()\n",
        "X_test=torch.FloatTensor(X_test_scaled).cuda()\n",
        "y_train=torch.LongTensor(y_train.values).cuda()\n",
        "y_test=torch.LongTensor(y_test.values).cuda()\n",
        "\n"
      ],
      "execution_count": 81,
      "outputs": []
    },
    {
      "cell_type": "code",
      "metadata": {
        "id": "4_PiojNGdG3F"
      },
      "source": [
        "from torch import nn\n",
        "import torch.nn.functional as F\n",
        "\n",
        "class ANN_Model(nn.Module):\n",
        "    def __init__(self,input_features=8,hidden1=32,hidden2=16,hidden3=8,out_features=2):\n",
        "        super().__init__()\n",
        "        self.f_connected1=nn.Linear(input_features,hidden1)\n",
        "        self.f_connected2=nn.Linear(hidden1,hidden2)\n",
        "        self.f_connected3=nn.Linear(hidden2,hidden3)\n",
        "        self.out=nn.Linear(hidden3,out_features)\n",
        "    def forward(self,x):\n",
        "        x=F.relu(self.f_connected1(x))\n",
        "        x=F.relu(self.f_connected2(x))\n",
        "        x=F.relu(self.f_connected3(x))\n",
        "        x=self.out(x)\n",
        "        return x"
      ],
      "execution_count": 182,
      "outputs": []
    },
    {
      "cell_type": "code",
      "metadata": {
        "colab": {
          "base_uri": "https://localhost:8080/"
        },
        "id": "b7QkLQ60dLyK",
        "outputId": "569674fc-8bc6-4528-8129-3858ab522c92"
      },
      "source": [
        "####instantiate my ANN_model\n",
        "torch.manual_seed(20)\n",
        "model=ANN_Model()\n",
        "print(model)"
      ],
      "execution_count": 183,
      "outputs": [
        {
          "output_type": "stream",
          "text": [
            "ANN_Model(\n",
            "  (f_connected1): Linear(in_features=8, out_features=32, bias=True)\n",
            "  (f_connected2): Linear(in_features=32, out_features=16, bias=True)\n",
            "  (f_connected3): Linear(in_features=16, out_features=8, bias=True)\n",
            "  (out): Linear(in_features=8, out_features=2, bias=True)\n",
            ")\n"
          ],
          "name": "stdout"
        }
      ]
    },
    {
      "cell_type": "code",
      "metadata": {
        "colab": {
          "base_uri": "https://localhost:8080/"
        },
        "id": "NvEqEMfddM6M",
        "outputId": "fb88dd01-54c2-43db-ab63-39c0d6a38b6e"
      },
      "source": [
        "print(model.f_connected1.bias)"
      ],
      "execution_count": 184,
      "outputs": [
        {
          "output_type": "stream",
          "text": [
            "Parameter containing:\n",
            "tensor([ 0.1839,  0.0752,  0.2938,  0.1688,  0.1144, -0.1659, -0.3393, -0.2614,\n",
            "        -0.2888, -0.3511, -0.0987,  0.1402, -0.3385, -0.0779, -0.2267,  0.0677,\n",
            "        -0.3532,  0.1734,  0.3116, -0.3038, -0.1018, -0.0179,  0.3468,  0.3197,\n",
            "         0.1565,  0.0601, -0.1465, -0.3120, -0.0092,  0.0577,  0.1012,  0.3057],\n",
            "       requires_grad=True)\n"
          ],
          "name": "stdout"
        }
      ]
    },
    {
      "cell_type": "code",
      "metadata": {
        "colab": {
          "base_uri": "https://localhost:8080/"
        },
        "id": "Lc7RSu7LdQeF",
        "outputId": "add4a330-deed-4494-9e40-5c5ee9e77d2f"
      },
      "source": [
        "print(model.f_connected1.weight)"
      ],
      "execution_count": 185,
      "outputs": [
        {
          "output_type": "stream",
          "text": [
            "Parameter containing:\n",
            "tensor([[ 0.0435, -0.2281,  0.2225, -0.1205, -0.1896,  0.2002,  0.2506, -0.2820],\n",
            "        [-0.2208,  0.3048, -0.2900, -0.1304,  0.3128, -0.1742,  0.1689,  0.0285],\n",
            "        [-0.0456, -0.0403,  0.0889, -0.3268,  0.1506, -0.1252,  0.3275, -0.1920],\n",
            "        [-0.0361, -0.2042,  0.1300,  0.1752, -0.0264,  0.1939, -0.0806, -0.3022],\n",
            "        [ 0.2642, -0.1054, -0.1217, -0.1234, -0.1839, -0.0154, -0.1907,  0.1026],\n",
            "        [ 0.0369,  0.1485, -0.2521,  0.1423,  0.2064, -0.3484,  0.1894, -0.1130],\n",
            "        [-0.2231, -0.2958, -0.3185,  0.0140,  0.0713,  0.1848,  0.2910,  0.2082],\n",
            "        [-0.3351,  0.3172, -0.0193,  0.1992,  0.3035, -0.0423,  0.0716,  0.2527],\n",
            "        [ 0.2203,  0.2263, -0.1873,  0.1679, -0.0071, -0.1656, -0.2603,  0.3361],\n",
            "        [-0.1578,  0.2102,  0.1585, -0.2564, -0.0078, -0.3381, -0.0064,  0.2354],\n",
            "        [-0.0180, -0.3428,  0.1465,  0.0387,  0.0399,  0.0387, -0.2971, -0.3012],\n",
            "        [-0.3242,  0.2976, -0.3156, -0.2330, -0.0870,  0.0748, -0.2671, -0.2273],\n",
            "        [-0.0630,  0.1007, -0.3279,  0.3239,  0.3401, -0.1977,  0.0797, -0.3324],\n",
            "        [-0.1102, -0.1766,  0.2238,  0.1320, -0.1879, -0.2555,  0.0887,  0.1955],\n",
            "        [-0.2763, -0.0363,  0.0150,  0.2953,  0.3273, -0.2959, -0.0187, -0.3495],\n",
            "        [-0.1259,  0.3486, -0.0046,  0.2534, -0.1572,  0.0754,  0.2335,  0.3236],\n",
            "        [-0.2694,  0.2446,  0.0769, -0.0397, -0.1908, -0.1470,  0.1587,  0.1873],\n",
            "        [ 0.1065, -0.2466,  0.0324, -0.0454,  0.0764, -0.1388,  0.2192, -0.2984],\n",
            "        [-0.2427, -0.1622,  0.2950, -0.1042, -0.1722,  0.2847,  0.3491, -0.0964],\n",
            "        [ 0.3524, -0.1425,  0.2016, -0.1169,  0.1290,  0.1142,  0.0625, -0.0030],\n",
            "        [-0.1214, -0.2169, -0.3195, -0.0731,  0.0803, -0.3529, -0.0688, -0.3399],\n",
            "        [-0.3136,  0.2804, -0.1046,  0.1803, -0.2494,  0.1241,  0.1488, -0.0792],\n",
            "        [ 0.0336, -0.0552,  0.3199,  0.2040, -0.0608, -0.0200,  0.1817,  0.3358],\n",
            "        [-0.2846,  0.2190, -0.2902,  0.1961, -0.2842,  0.1893,  0.2571,  0.3312],\n",
            "        [ 0.1070,  0.3295,  0.2108, -0.2253,  0.3208, -0.1889, -0.2084,  0.2768],\n",
            "        [-0.1280, -0.0413,  0.1157,  0.2052,  0.1503,  0.1644,  0.0623,  0.0779],\n",
            "        [-0.2569, -0.0014, -0.1943,  0.3155,  0.1406,  0.0485, -0.2654, -0.1598],\n",
            "        [-0.0132, -0.2465,  0.1297, -0.0566,  0.1259,  0.2215,  0.0584,  0.1569],\n",
            "        [ 0.3214,  0.1336,  0.3092, -0.2868, -0.0392, -0.1129,  0.3262,  0.3008],\n",
            "        [ 0.0283,  0.1565,  0.2679, -0.1298,  0.1184,  0.2549, -0.2268, -0.2079],\n",
            "        [-0.2618,  0.1982, -0.0313, -0.1119,  0.2254, -0.2885, -0.1748, -0.0947],\n",
            "        [ 0.2873, -0.3426,  0.3259, -0.2983, -0.0124, -0.0135, -0.0803,  0.3473]],\n",
            "       requires_grad=True)\n"
          ],
          "name": "stdout"
        }
      ]
    },
    {
      "cell_type": "code",
      "metadata": {
        "colab": {
          "base_uri": "https://localhost:8080/"
        },
        "id": "EMUX8YWWdR4a",
        "outputId": "e37bd113-4b9f-41fd-b843-ebec083e7b44"
      },
      "source": [
        "model.parameters"
      ],
      "execution_count": 186,
      "outputs": [
        {
          "output_type": "execute_result",
          "data": {
            "text/plain": [
              "<bound method Module.parameters of ANN_Model(\n",
              "  (f_connected1): Linear(in_features=8, out_features=32, bias=True)\n",
              "  (f_connected2): Linear(in_features=32, out_features=16, bias=True)\n",
              "  (f_connected3): Linear(in_features=16, out_features=8, bias=True)\n",
              "  (out): Linear(in_features=8, out_features=2, bias=True)\n",
              ")>"
            ]
          },
          "metadata": {
            "tags": []
          },
          "execution_count": 186
        }
      ]
    },
    {
      "cell_type": "code",
      "metadata": {
        "colab": {
          "base_uri": "https://localhost:8080/"
        },
        "id": "6cE4EdxydZpW",
        "outputId": "17c13d68-f975-42fb-8085-8578aa641da1"
      },
      "source": [
        "y_train.device"
      ],
      "execution_count": 187,
      "outputs": [
        {
          "output_type": "execute_result",
          "data": {
            "text/plain": [
              "device(type='cuda', index=0)"
            ]
          },
          "metadata": {
            "tags": []
          },
          "execution_count": 187
        }
      ]
    },
    {
      "cell_type": "code",
      "metadata": {
        "colab": {
          "base_uri": "https://localhost:8080/"
        },
        "id": "xVZSPqahdfoO",
        "outputId": "e8b0193c-ecef-451e-b0c2-1d4310176d99"
      },
      "source": [
        "for i in model.parameters():\n",
        "    print(i.is_cuda)"
      ],
      "execution_count": 188,
      "outputs": [
        {
          "output_type": "stream",
          "text": [
            "False\n",
            "False\n",
            "False\n",
            "False\n",
            "False\n",
            "False\n",
            "False\n",
            "False\n"
          ],
          "name": "stdout"
        }
      ]
    },
    {
      "cell_type": "code",
      "metadata": {
        "id": "f6xZLMu6evBu"
      },
      "source": [
        "model=model.cuda()"
      ],
      "execution_count": 189,
      "outputs": []
    },
    {
      "cell_type": "code",
      "metadata": {
        "colab": {
          "base_uri": "https://localhost:8080/"
        },
        "id": "RoGUrmw3feeL",
        "outputId": "1eddde17-3834-4724-a7ac-79ef3489a66a"
      },
      "source": [
        "model"
      ],
      "execution_count": 190,
      "outputs": [
        {
          "output_type": "execute_result",
          "data": {
            "text/plain": [
              "ANN_Model(\n",
              "  (f_connected1): Linear(in_features=8, out_features=32, bias=True)\n",
              "  (f_connected2): Linear(in_features=32, out_features=16, bias=True)\n",
              "  (f_connected3): Linear(in_features=16, out_features=8, bias=True)\n",
              "  (out): Linear(in_features=8, out_features=2, bias=True)\n",
              ")"
            ]
          },
          "metadata": {
            "tags": []
          },
          "execution_count": 190
        }
      ]
    },
    {
      "cell_type": "code",
      "metadata": {
        "colab": {
          "base_uri": "https://localhost:8080/"
        },
        "id": "CYdayMMlffVG",
        "outputId": "d385de62-8d93-4236-dab5-7a96392c04f8"
      },
      "source": [
        "for i in model.parameters():\n",
        "    print(i.is_cuda)"
      ],
      "execution_count": 191,
      "outputs": [
        {
          "output_type": "stream",
          "text": [
            "True\n",
            "True\n",
            "True\n",
            "True\n",
            "True\n",
            "True\n",
            "True\n",
            "True\n"
          ],
          "name": "stdout"
        }
      ]
    },
    {
      "cell_type": "code",
      "metadata": {
        "id": "ynJUsC8SfhJz"
      },
      "source": [
        "loss_function=nn.CrossEntropyLoss()\n",
        "optimizer=torch.optim.Adam(model.parameters(),lr=0.01)"
      ],
      "execution_count": 192,
      "outputs": []
    },
    {
      "cell_type": "code",
      "metadata": {
        "colab": {
          "base_uri": "https://localhost:8080/"
        },
        "id": "g95iZJ9Rfn_M",
        "outputId": "30b57c0e-5722-4dd6-af72-bd496efc1019"
      },
      "source": [
        "import time\n",
        "start_time=time.time()\n",
        "epochs=10000\n",
        "final_losses=[]\n",
        "for i in range(epochs):\n",
        "    i=i+1\n",
        "    y_pred=model.forward(X_train)\n",
        "    loss=loss_function(y_pred,y_train)\n",
        "    final_losses.append(loss)\n",
        "    if i%10==1:\n",
        "        print(\"Epoch number: {} and the loss : {}\".format(i,loss.item()))\n",
        "    optimizer.zero_grad()\n",
        "    loss.backward()\n",
        "    optimizer.step()\n",
        "print(time.time()-start_time)"
      ],
      "execution_count": 193,
      "outputs": [
        {
          "output_type": "stream",
          "text": [
            "Epoch number: 1 and the loss : 0.7093948125839233\n",
            "Epoch number: 11 and the loss : 0.506426215171814\n",
            "Epoch number: 21 and the loss : 0.4559498727321625\n",
            "Epoch number: 31 and the loss : 0.43132928013801575\n",
            "Epoch number: 41 and the loss : 0.40658673644065857\n",
            "Epoch number: 51 and the loss : 0.378065288066864\n",
            "Epoch number: 61 and the loss : 0.33788368105888367\n",
            "Epoch number: 71 and the loss : 0.2994823455810547\n",
            "Epoch number: 81 and the loss : 0.27316001057624817\n",
            "Epoch number: 91 and the loss : 0.24124260246753693\n",
            "Epoch number: 101 and the loss : 0.2120829075574875\n",
            "Epoch number: 111 and the loss : 0.20233753323554993\n",
            "Epoch number: 121 and the loss : 0.18078675866127014\n",
            "Epoch number: 131 and the loss : 0.1585749238729477\n",
            "Epoch number: 141 and the loss : 0.13835546374320984\n",
            "Epoch number: 151 and the loss : 0.11995892226696014\n",
            "Epoch number: 161 and the loss : 0.1029631495475769\n",
            "Epoch number: 171 and the loss : 0.10319641977548599\n",
            "Epoch number: 181 and the loss : 0.11124332249164581\n",
            "Epoch number: 191 and the loss : 0.08682573586702347\n",
            "Epoch number: 201 and the loss : 0.07076875865459442\n",
            "Epoch number: 211 and the loss : 0.06274030357599258\n",
            "Epoch number: 221 and the loss : 0.05382189154624939\n",
            "Epoch number: 231 and the loss : 0.04765580594539642\n",
            "Epoch number: 241 and the loss : 0.042192209511995316\n",
            "Epoch number: 251 and the loss : 0.03734055906534195\n",
            "Epoch number: 261 and the loss : 0.03313235193490982\n",
            "Epoch number: 271 and the loss : 0.02947474643588066\n",
            "Epoch number: 281 and the loss : 0.026294581592082977\n",
            "Epoch number: 291 and the loss : 0.023604093119502068\n",
            "Epoch number: 301 and the loss : 0.02125445008277893\n",
            "Epoch number: 311 and the loss : 0.01924668624997139\n",
            "Epoch number: 321 and the loss : 0.01742127723991871\n",
            "Epoch number: 331 and the loss : 0.014502927660942078\n",
            "Epoch number: 341 and the loss : 0.011546451598405838\n",
            "Epoch number: 351 and the loss : 0.009341179393231869\n",
            "Epoch number: 361 and the loss : 0.008007772266864777\n",
            "Epoch number: 371 and the loss : 0.007057076785713434\n",
            "Epoch number: 381 and the loss : 0.006293522194027901\n",
            "Epoch number: 391 and the loss : 0.005665551405400038\n",
            "Epoch number: 401 and the loss : 0.005131053738296032\n",
            "Epoch number: 411 and the loss : 0.004680242855101824\n",
            "Epoch number: 421 and the loss : 0.00428251177072525\n",
            "Epoch number: 431 and the loss : 0.003934655338525772\n",
            "Epoch number: 441 and the loss : 0.003632621606811881\n",
            "Epoch number: 451 and the loss : 0.0033639688044786453\n",
            "Epoch number: 461 and the loss : 0.0031182444654405117\n",
            "Epoch number: 471 and the loss : 0.0029043108224868774\n",
            "Epoch number: 481 and the loss : 0.0027114779222756624\n",
            "Epoch number: 491 and the loss : 0.0025351443327963352\n",
            "Epoch number: 501 and the loss : 0.002374039264395833\n",
            "Epoch number: 511 and the loss : 0.002227331046015024\n",
            "Epoch number: 521 and the loss : 0.0020934150088578463\n",
            "Epoch number: 531 and the loss : 0.001970551675185561\n",
            "Epoch number: 541 and the loss : 0.0018589464016258717\n",
            "Epoch number: 551 and the loss : 0.0017576022073626518\n",
            "Epoch number: 561 and the loss : 0.0016655625076964498\n",
            "Epoch number: 571 and the loss : 0.0015794460196048021\n",
            "Epoch number: 581 and the loss : 0.0015013320371508598\n",
            "Epoch number: 591 and the loss : 0.0014271113323047757\n",
            "Epoch number: 601 and the loss : 0.001358100213110447\n",
            "Epoch number: 611 and the loss : 0.0012934579281136394\n",
            "Epoch number: 621 and the loss : 0.0012325505958870053\n",
            "Epoch number: 631 and the loss : 0.0011762508656829596\n",
            "Epoch number: 641 and the loss : 0.0011240474414080381\n",
            "Epoch number: 651 and the loss : 0.0010751214576885104\n",
            "Epoch number: 661 and the loss : 0.001029779901728034\n",
            "Epoch number: 671 and the loss : 0.0009869500063359737\n",
            "Epoch number: 681 and the loss : 0.000947341788560152\n",
            "Epoch number: 691 and the loss : 0.0009096041321754456\n",
            "Epoch number: 701 and the loss : 0.0008744664373807609\n",
            "Epoch number: 711 and the loss : 0.0008413915056735277\n",
            "Epoch number: 721 and the loss : 0.0008104052976705134\n",
            "Epoch number: 731 and the loss : 0.0007810433162376285\n",
            "Epoch number: 741 and the loss : 0.0007533045718446374\n",
            "Epoch number: 751 and the loss : 0.0007269192137755454\n",
            "Epoch number: 761 and the loss : 0.00070245994720608\n",
            "Epoch number: 771 and the loss : 0.0006789900362491608\n",
            "Epoch number: 781 and the loss : 0.0006566247320733964\n",
            "Epoch number: 791 and the loss : 0.0006353533826768398\n",
            "Epoch number: 801 and the loss : 0.0006152396090328693\n",
            "Epoch number: 811 and the loss : 0.0005961464485153556\n",
            "Epoch number: 821 and the loss : 0.0005778912454843521\n",
            "Epoch number: 831 and the loss : 0.0005606464692391455\n",
            "Epoch number: 841 and the loss : 0.0005439338856376708\n",
            "Epoch number: 851 and the loss : 0.0005283598438836634\n",
            "Epoch number: 861 and the loss : 0.0005132420337758958\n",
            "Epoch number: 871 and the loss : 0.0004985573468729854\n",
            "Epoch number: 881 and the loss : 0.0004843494389206171\n",
            "Epoch number: 891 and the loss : 0.0004709528584498912\n",
            "Epoch number: 901 and the loss : 0.00045814781333319843\n",
            "Epoch number: 911 and the loss : 0.00044559320667758584\n",
            "Epoch number: 921 and the loss : 0.0004336012643761933\n",
            "Epoch number: 931 and the loss : 0.0004219243419356644\n",
            "Epoch number: 941 and the loss : 0.0004110001027584076\n",
            "Epoch number: 951 and the loss : 0.00040043320041149855\n",
            "Epoch number: 961 and the loss : 0.00039027605089358985\n",
            "Epoch number: 971 and the loss : 0.000380376644898206\n",
            "Epoch number: 981 and the loss : 0.0003708566655404866\n",
            "Epoch number: 991 and the loss : 0.00036189513048157096\n",
            "Epoch number: 1001 and the loss : 0.00035303039476275444\n",
            "Epoch number: 1011 and the loss : 0.0003444796893745661\n",
            "Epoch number: 1021 and the loss : 0.0003361556737218052\n",
            "Epoch number: 1031 and the loss : 0.0003282999969087541\n",
            "Epoch number: 1041 and the loss : 0.00032052406459115446\n",
            "Epoch number: 1051 and the loss : 0.00031320872949436307\n",
            "Epoch number: 1061 and the loss : 0.0003059461305383593\n",
            "Epoch number: 1071 and the loss : 0.0002990053326357156\n",
            "Epoch number: 1081 and the loss : 0.0002922974817920476\n",
            "Epoch number: 1091 and the loss : 0.0002859185915440321\n",
            "Epoch number: 1101 and the loss : 0.00027955096447840333\n",
            "Epoch number: 1111 and the loss : 0.000273543584626168\n",
            "Epoch number: 1121 and the loss : 0.0002676166477613151\n",
            "Epoch number: 1131 and the loss : 0.00026194381644017994\n",
            "Epoch number: 1141 and the loss : 0.00025645989808253944\n",
            "Epoch number: 1151 and the loss : 0.0002511150378268212\n",
            "Epoch number: 1161 and the loss : 0.0002459073148202151\n",
            "Epoch number: 1171 and the loss : 0.00024092149396892637\n",
            "Epoch number: 1181 and the loss : 0.0002360765793127939\n",
            "Epoch number: 1191 and the loss : 0.00023138236429076642\n",
            "Epoch number: 1201 and the loss : 0.00022682266717310995\n",
            "Epoch number: 1211 and the loss : 0.00022232103219721466\n",
            "Epoch number: 1221 and the loss : 0.0002179350849473849\n",
            "Epoch number: 1231 and the loss : 0.0002137393457815051\n",
            "Epoch number: 1241 and the loss : 0.0002097586984746158\n",
            "Epoch number: 1251 and the loss : 0.00020570472406689078\n",
            "Epoch number: 1261 and the loss : 0.0002018416707869619\n",
            "Epoch number: 1271 and the loss : 0.00019812954997178167\n",
            "Epoch number: 1281 and the loss : 0.00019451937987469137\n",
            "Epoch number: 1291 and the loss : 0.0001908810081658885\n",
            "Epoch number: 1301 and the loss : 0.00018738042854238302\n",
            "Epoch number: 1311 and the loss : 0.00018401280976831913\n",
            "Epoch number: 1321 and the loss : 0.00018068926874548197\n",
            "Epoch number: 1331 and the loss : 0.0001775044947862625\n",
            "Epoch number: 1341 and the loss : 0.0001743910979712382\n",
            "Epoch number: 1351 and the loss : 0.00017133554501924664\n",
            "Epoch number: 1361 and the loss : 0.00016835118003655225\n",
            "Epoch number: 1371 and the loss : 0.0001654562511248514\n",
            "Epoch number: 1381 and the loss : 0.00016264196892734617\n",
            "Epoch number: 1391 and the loss : 0.00015986376092769206\n",
            "Epoch number: 1401 and the loss : 0.0001571429311297834\n",
            "Epoch number: 1411 and the loss : 0.00015450824867002666\n",
            "Epoch number: 1421 and the loss : 0.00015191583952400833\n",
            "Epoch number: 1431 and the loss : 0.00014939978427719325\n",
            "Epoch number: 1441 and the loss : 0.00014690871466882527\n",
            "Epoch number: 1451 and the loss : 0.00014448471483774483\n",
            "Epoch number: 1461 and the loss : 0.00014215409464668483\n",
            "Epoch number: 1471 and the loss : 0.00013986606791149825\n",
            "Epoch number: 1481 and the loss : 0.0001375819556415081\n",
            "Epoch number: 1491 and the loss : 0.00013540260260924697\n",
            "Epoch number: 1501 and the loss : 0.000133285706397146\n",
            "Epoch number: 1511 and the loss : 0.00013117885100655258\n",
            "Epoch number: 1521 and the loss : 0.0001291109947487712\n",
            "Epoch number: 1531 and the loss : 0.0001271150104003027\n",
            "Epoch number: 1541 and the loss : 0.00012512985267676413\n",
            "Epoch number: 1551 and the loss : 0.00012323381088208407\n",
            "Epoch number: 1561 and the loss : 0.00012137724115746096\n",
            "Epoch number: 1571 and the loss : 0.0001195371150970459\n",
            "Epoch number: 1581 and the loss : 0.00011774821177823469\n",
            "Epoch number: 1591 and the loss : 0.0001160199535661377\n",
            "Epoch number: 1601 and the loss : 0.00011427200661273673\n",
            "Epoch number: 1611 and the loss : 0.0001125809212680906\n",
            "Epoch number: 1621 and the loss : 0.00011094069486716762\n",
            "Epoch number: 1631 and the loss : 0.00010935230238828808\n",
            "Epoch number: 1641 and the loss : 0.00010777341231005266\n",
            "Epoch number: 1651 and the loss : 0.00010621767432894558\n",
            "Epoch number: 1661 and the loss : 0.00010467739048181102\n",
            "Epoch number: 1671 and the loss : 0.00010321988520445302\n",
            "Epoch number: 1681 and the loss : 0.00010176895739277825\n",
            "Epoch number: 1691 and the loss : 0.00010031790588982403\n",
            "Epoch number: 1701 and the loss : 9.890950605040416e-05\n",
            "Epoch number: 1711 and the loss : 9.754506754688919e-05\n",
            "Epoch number: 1721 and the loss : 9.620859782444313e-05\n",
            "Epoch number: 1731 and the loss : 9.486741328146309e-05\n",
            "Epoch number: 1741 and the loss : 9.36106953304261e-05\n",
            "Epoch number: 1751 and the loss : 9.229991701431572e-05\n",
            "Epoch number: 1761 and the loss : 9.104819037020206e-05\n",
            "Epoch number: 1771 and the loss : 8.984604210127145e-05\n",
            "Epoch number: 1781 and the loss : 8.861836977303028e-05\n",
            "Epoch number: 1791 and the loss : 8.746161620365456e-05\n",
            "Epoch number: 1801 and the loss : 8.628102659713477e-05\n",
            "Epoch number: 1811 and the loss : 8.51312288432382e-05\n",
            "Epoch number: 1821 and the loss : 8.403246465604752e-05\n",
            "Epoch number: 1831 and the loss : 8.292884740512818e-05\n",
            "Epoch number: 1841 and the loss : 8.184425678336993e-05\n",
            "Epoch number: 1851 and the loss : 8.077108941506594e-05\n",
            "Epoch number: 1861 and the loss : 7.970530714374036e-05\n",
            "Epoch number: 1871 and the loss : 7.866411760915071e-05\n",
            "Epoch number: 1881 and the loss : 7.763786561554298e-05\n",
            "Epoch number: 1891 and the loss : 7.663880387553945e-05\n",
            "Epoch number: 1901 and the loss : 7.565425767097622e-05\n",
            "Epoch number: 1911 and the loss : 7.466755778295919e-05\n",
            "Epoch number: 1921 and the loss : 7.373074913630262e-05\n",
            "Epoch number: 1931 and the loss : 7.278809789568186e-05\n",
            "Epoch number: 1941 and the loss : 7.186137372627854e-05\n",
            "Epoch number: 1951 and the loss : 7.096703484421596e-05\n",
            "Epoch number: 1961 and the loss : 7.008800457697362e-05\n",
            "Epoch number: 1971 and the loss : 6.9211091613397e-05\n",
            "Epoch number: 1981 and the loss : 6.835590465925634e-05\n",
            "Epoch number: 1991 and the loss : 6.749997555743903e-05\n",
            "Epoch number: 2001 and the loss : 6.667351408395916e-05\n",
            "Epoch number: 2011 and the loss : 6.585267692571506e-05\n",
            "Epoch number: 2021 and the loss : 6.505531928269193e-05\n",
            "Epoch number: 2031 and the loss : 6.42684317426756e-05\n",
            "Epoch number: 2041 and the loss : 6.348502938635647e-05\n",
            "Epoch number: 2051 and the loss : 6.271618622122332e-05\n",
            "Epoch number: 2061 and the loss : 6.197041511768475e-05\n",
            "Epoch number: 2071 and the loss : 6.122909690020606e-05\n",
            "Epoch number: 2081 and the loss : 6.050312003935687e-05\n",
            "Epoch number: 2091 and the loss : 5.979440902592614e-05\n",
            "Epoch number: 2101 and the loss : 5.9081441577291116e-05\n",
            "Epoch number: 2111 and the loss : 5.839833102072589e-05\n",
            "Epoch number: 2121 and the loss : 5.771172436652705e-05\n",
            "Epoch number: 2131 and the loss : 5.703560964320786e-05\n",
            "Epoch number: 2141 and the loss : 5.6391319958493114e-05\n",
            "Epoch number: 2151 and the loss : 5.573652379098348e-05\n",
            "Epoch number: 2161 and the loss : 5.510231130756438e-05\n",
            "Epoch number: 2171 and the loss : 5.447353032650426e-05\n",
            "Epoch number: 2181 and the loss : 5.384591713664122e-05\n",
            "Epoch number: 2191 and the loss : 5.323614095686935e-05\n",
            "Epoch number: 2201 and the loss : 5.2639177738456056e-05\n",
            "Epoch number: 2211 and the loss : 5.204995613894425e-05\n",
            "Epoch number: 2221 and the loss : 5.1472765335347503e-05\n",
            "Epoch number: 2231 and the loss : 5.0891143473563716e-05\n",
            "Epoch number: 2241 and the loss : 5.032601620769128e-05\n",
            "Epoch number: 2251 and the loss : 4.9758717068471014e-05\n",
            "Epoch number: 2261 and the loss : 4.9224996473640203e-05\n",
            "Epoch number: 2271 and the loss : 4.868196992902085e-05\n",
            "Epoch number: 2281 and the loss : 4.814496423932724e-05\n",
            "Epoch number: 2291 and the loss : 4.761939635500312e-05\n",
            "Epoch number: 2301 and the loss : 4.7099438233999535e-05\n",
            "Epoch number: 2311 and the loss : 4.659019032260403e-05\n",
            "Epoch number: 2321 and the loss : 4.6078392188064754e-05\n",
            "Epoch number: 2331 and the loss : 4.5585224142996594e-05\n",
            "Epoch number: 2341 and the loss : 4.509439168032259e-05\n",
            "Epoch number: 2351 and the loss : 4.4610158511204645e-05\n",
            "Epoch number: 2361 and the loss : 4.413502392708324e-05\n",
            "Epoch number: 2371 and the loss : 4.3675623601302505e-05\n",
            "Epoch number: 2381 and the loss : 4.3208274291828275e-05\n",
            "Epoch number: 2391 and the loss : 4.2753523302963004e-05\n",
            "Epoch number: 2401 and the loss : 4.231138154864311e-05\n",
            "Epoch number: 2411 and the loss : 4.18609197367914e-05\n",
            "Epoch number: 2421 and the loss : 4.142518082517199e-05\n",
            "Epoch number: 2431 and the loss : 4.09974018111825e-05\n",
            "Epoch number: 2441 and the loss : 4.056711259181611e-05\n",
            "Epoch number: 2451 and the loss : 4.015679587610066e-05\n",
            "Epoch number: 2461 and the loss : 3.974164428655058e-05\n",
            "Epoch number: 2471 and the loss : 3.9332280721282586e-05\n",
            "Epoch number: 2481 and the loss : 3.893130269716494e-05\n",
            "Epoch number: 2491 and the loss : 3.853457747027278e-05\n",
            "Epoch number: 2501 and the loss : 3.814328374573961e-05\n",
            "Epoch number: 2511 and the loss : 3.775606455747038e-05\n",
            "Epoch number: 2521 and the loss : 3.737854058272205e-05\n",
            "Epoch number: 2531 and the loss : 3.7007044738857076e-05\n",
            "Epoch number: 2541 and the loss : 3.663030292955227e-05\n",
            "Epoch number: 2551 and the loss : 3.6269862903282046e-05\n",
            "Epoch number: 2561 and the loss : 3.5906716220779344e-05\n",
            "Epoch number: 2571 and the loss : 3.555422881618142e-05\n",
            "Epoch number: 2581 and the loss : 3.519786332617514e-05\n",
            "Epoch number: 2591 and the loss : 3.485158595140092e-05\n",
            "Epoch number: 2601 and the loss : 3.450705480645411e-05\n",
            "Epoch number: 2611 and the loss : 3.41699123964645e-05\n",
            "Epoch number: 2621 and the loss : 3.3836837246781215e-05\n",
            "Epoch number: 2631 and the loss : 3.350122278789058e-05\n",
            "Epoch number: 2641 and the loss : 3.317747177788988e-05\n",
            "Epoch number: 2651 and the loss : 3.285952698206529e-05\n",
            "Epoch number: 2661 and the loss : 3.2541203836444765e-05\n",
            "Epoch number: 2671 and the loss : 3.223413659725338e-05\n",
            "Epoch number: 2681 and the loss : 3.192066287738271e-05\n",
            "Epoch number: 2691 and the loss : 3.1617077183909714e-05\n",
            "Epoch number: 2701 and the loss : 3.131718040094711e-05\n",
            "Epoch number: 2711 and the loss : 3.102407936239615e-05\n",
            "Epoch number: 2721 and the loss : 3.0732353479834273e-05\n",
            "Epoch number: 2731 and the loss : 3.0442355637205765e-05\n",
            "Epoch number: 2741 and the loss : 3.0152550607454032e-05\n",
            "Epoch number: 2751 and the loss : 2.9869155696360394e-05\n",
            "Epoch number: 2761 and the loss : 2.959217454190366e-05\n",
            "Epoch number: 2771 and the loss : 2.9316153813851997e-05\n",
            "Epoch number: 2781 and the loss : 2.9046525014564395e-05\n",
            "Epoch number: 2791 and the loss : 2.8775359169230796e-05\n",
            "Epoch number: 2801 and the loss : 2.8507496608654037e-05\n",
            "Epoch number: 2811 and the loss : 2.824719194904901e-05\n",
            "Epoch number: 2821 and the loss : 2.7992125978926197e-05\n",
            "Epoch number: 2831 and the loss : 2.7733187380363233e-05\n",
            "Epoch number: 2841 and the loss : 2.747793223534245e-05\n",
            "Epoch number: 2851 and the loss : 2.722306817304343e-05\n",
            "Epoch number: 2861 and the loss : 2.6981397240888327e-05\n",
            "Epoch number: 2871 and the loss : 2.673138806130737e-05\n",
            "Epoch number: 2881 and the loss : 2.6491465177969076e-05\n",
            "Epoch number: 2891 and the loss : 2.6251153030898422e-05\n",
            "Epoch number: 2901 and the loss : 2.602035237941891e-05\n",
            "Epoch number: 2911 and the loss : 2.5783338060136884e-05\n",
            "Epoch number: 2921 and the loss : 2.5551375074428506e-05\n",
            "Epoch number: 2931 and the loss : 2.532251164666377e-05\n",
            "Epoch number: 2941 and the loss : 2.5096956960624084e-05\n",
            "Epoch number: 2951 and the loss : 2.48711985477712e-05\n",
            "Epoch number: 2961 and the loss : 2.4651657440699637e-05\n",
            "Epoch number: 2971 and the loss : 2.4431912606814876e-05\n",
            "Epoch number: 2981 and the loss : 2.4216067686211318e-05\n",
            "Epoch number: 2991 and the loss : 2.399787445028778e-05\n",
            "Epoch number: 3001 and the loss : 2.3789971237420104e-05\n",
            "Epoch number: 3011 and the loss : 2.3585376766277477e-05\n",
            "Epoch number: 3021 and the loss : 2.3371654606307857e-05\n",
            "Epoch number: 3031 and the loss : 2.3162980141933076e-05\n",
            "Epoch number: 3041 and the loss : 2.2960706701269373e-05\n",
            "Epoch number: 3051 and the loss : 2.276154191349633e-05\n",
            "Epoch number: 3061 and the loss : 2.2567623091163114e-05\n",
            "Epoch number: 3071 and the loss : 2.237486478406936e-05\n",
            "Epoch number: 3081 and the loss : 2.217977453256026e-05\n",
            "Epoch number: 3091 and the loss : 2.1983907572575845e-05\n",
            "Epoch number: 3101 and the loss : 2.179658622480929e-05\n",
            "Epoch number: 3111 and the loss : 2.16084790736204e-05\n",
            "Epoch number: 3121 and the loss : 2.1423682483145967e-05\n",
            "Epoch number: 3131 and the loss : 2.1240037312963977e-05\n",
            "Epoch number: 3141 and the loss : 2.1058340280433185e-05\n",
            "Epoch number: 3151 and the loss : 2.0879171643173322e-05\n",
            "Epoch number: 3161 and the loss : 2.0703882910311222e-05\n",
            "Epoch number: 3171 and the loss : 2.052742274827324e-05\n",
            "Epoch number: 3181 and the loss : 2.0353490981506184e-05\n",
            "Epoch number: 3191 and the loss : 2.0184415916446596e-05\n",
            "Epoch number: 3201 and the loss : 2.0012421373394318e-05\n",
            "Epoch number: 3211 and the loss : 1.9843533664243296e-05\n",
            "Epoch number: 3221 and the loss : 1.9675811927299947e-05\n",
            "Epoch number: 3231 and the loss : 1.950925616256427e-05\n",
            "Epoch number: 3241 and the loss : 1.9347744455444627e-05\n",
            "Epoch number: 3251 and the loss : 1.91852668649517e-05\n",
            "Epoch number: 3261 and the loss : 1.9023753338842653e-05\n",
            "Epoch number: 3271 and the loss : 1.8867685867007822e-05\n",
            "Epoch number: 3281 and the loss : 1.8711603843257762e-05\n",
            "Epoch number: 3291 and the loss : 1.855630580394063e-05\n",
            "Epoch number: 3301 and the loss : 1.840450022427831e-05\n",
            "Epoch number: 3311 and the loss : 1.825192157411948e-05\n",
            "Epoch number: 3321 and the loss : 1.810283174563665e-05\n",
            "Epoch number: 3331 and the loss : 1.795102252799552e-05\n",
            "Epoch number: 3341 and the loss : 1.7805623429012485e-05\n",
            "Epoch number: 3351 and the loss : 1.7660609955783002e-05\n",
            "Epoch number: 3361 and the loss : 1.7515021681902e-05\n",
            "Epoch number: 3371 and the loss : 1.7371563444612548e-05\n",
            "Epoch number: 3381 and the loss : 1.7231401216122322e-05\n",
            "Epoch number: 3391 and the loss : 1.70894963957835e-05\n",
            "Epoch number: 3401 and the loss : 1.6950110875768587e-05\n",
            "Epoch number: 3411 and the loss : 1.6815189155749977e-05\n",
            "Epoch number: 3421 and the loss : 1.6680472981533967e-05\n",
            "Epoch number: 3431 and the loss : 1.6543999663554132e-05\n",
            "Epoch number: 3441 and the loss : 1.6411409887950867e-05\n",
            "Epoch number: 3451 and the loss : 1.6278625480481423e-05\n",
            "Epoch number: 3461 and the loss : 1.6147978385561146e-05\n",
            "Epoch number: 3471 and the loss : 1.6019659597077407e-05\n",
            "Epoch number: 3481 and the loss : 1.5892504961811937e-05\n",
            "Epoch number: 3491 and the loss : 1.576438262418378e-05\n",
            "Epoch number: 3501 and the loss : 1.5636449461453594e-05\n",
            "Epoch number: 3511 and the loss : 1.5510266166529618e-05\n",
            "Epoch number: 3521 and the loss : 1.5386218365165405e-05\n",
            "Epoch number: 3531 and the loss : 1.526643791294191e-05\n",
            "Epoch number: 3541 and the loss : 1.5145690667850431e-05\n",
            "Epoch number: 3551 and the loss : 1.5024361346149817e-05\n",
            "Epoch number: 3561 and the loss : 1.490710383222904e-05\n",
            "Epoch number: 3571 and the loss : 1.4790241039008833e-05\n",
            "Epoch number: 3581 and the loss : 1.4675511010864284e-05\n",
            "Epoch number: 3591 and the loss : 1.4557286704075523e-05\n",
            "Epoch number: 3601 and the loss : 1.444255485694157e-05\n",
            "Epoch number: 3611 and the loss : 1.4329960322356783e-05\n",
            "Epoch number: 3621 and the loss : 1.421775232302025e-05\n",
            "Epoch number: 3631 and the loss : 1.4106904927757569e-05\n",
            "Epoch number: 3641 and the loss : 1.3997026144352276e-05\n",
            "Epoch number: 3651 and the loss : 1.388850523653673e-05\n",
            "Epoch number: 3661 and the loss : 1.378231627313653e-05\n",
            "Epoch number: 3671 and the loss : 1.3673602552444208e-05\n",
            "Epoch number: 3681 and the loss : 1.3567218957177829e-05\n",
            "Epoch number: 3691 and the loss : 1.3460834452416748e-05\n",
            "Epoch number: 3701 and the loss : 1.3357363968680147e-05\n",
            "Epoch number: 3711 and the loss : 1.3254083569336217e-05\n",
            "Epoch number: 3721 and the loss : 1.3151967323210556e-05\n",
            "Epoch number: 3731 and the loss : 1.305043861066224e-05\n",
            "Epoch number: 3741 and the loss : 1.2951239114045165e-05\n",
            "Epoch number: 3751 and the loss : 1.2851646715716925e-05\n",
            "Epoch number: 3761 and the loss : 1.2751280337397475e-05\n",
            "Epoch number: 3771 and the loss : 1.2656930266530253e-05\n",
            "Epoch number: 3781 and the loss : 1.2560058166855015e-05\n",
            "Epoch number: 3791 and the loss : 1.2463186067179777e-05\n",
            "Epoch number: 3801 and the loss : 1.2367865565465763e-05\n",
            "Epoch number: 3811 and the loss : 1.227429493155796e-05\n",
            "Epoch number: 3821 and the loss : 1.2180721569166053e-05\n",
            "Epoch number: 3831 and the loss : 1.208773028338328e-05\n",
            "Epoch number: 3841 and the loss : 1.1998427908110898e-05\n",
            "Epoch number: 3851 and the loss : 1.1906605323019903e-05\n",
            "Epoch number: 3861 and the loss : 1.1816911865025759e-05\n",
            "Epoch number: 3871 and the loss : 1.1727224773494527e-05\n",
            "Epoch number: 3881 and the loss : 1.1640250704658683e-05\n",
            "Epoch number: 3891 and the loss : 1.1552114301593974e-05\n",
            "Epoch number: 3901 and the loss : 1.1467665899544954e-05\n",
            "Epoch number: 3911 and the loss : 1.1377199371054303e-05\n",
            "Epoch number: 3921 and the loss : 1.1293138413748238e-05\n",
            "Epoch number: 3931 and the loss : 1.1208107025595382e-05\n",
            "Epoch number: 3941 and the loss : 1.1124629054393154e-05\n",
            "Epoch number: 3951 and the loss : 1.104270268115215e-05\n",
            "Epoch number: 3961 and the loss : 1.0962138730974402e-05\n",
            "Epoch number: 3971 and the loss : 1.0880599802476354e-05\n",
            "Epoch number: 3981 and the loss : 1.0799063602462411e-05\n",
            "Epoch number: 3991 and the loss : 1.0717525583459064e-05\n",
            "Epoch number: 4001 and the loss : 1.0638124877004884e-05\n",
            "Epoch number: 4011 and the loss : 1.0560275768511929e-05\n",
            "Epoch number: 4021 and the loss : 1.0480679520696867e-05\n",
            "Epoch number: 4031 and the loss : 1.0402830412203912e-05\n",
            "Epoch number: 4041 and the loss : 1.0325177754566539e-05\n",
            "Epoch number: 4051 and the loss : 1.0250239029119257e-05\n",
            "Epoch number: 4061 and the loss : 1.0175691386393737e-05\n",
            "Epoch number: 4071 and the loss : 1.0102307896886487e-05\n",
            "Epoch number: 4081 and the loss : 1.0027567441284191e-05\n",
            "Epoch number: 4091 and the loss : 9.953405424312223e-06\n",
            "Epoch number: 4101 and the loss : 9.880216566671152e-06\n",
            "Epoch number: 4111 and the loss : 9.808190952753648e-06\n",
            "Epoch number: 4121 and the loss : 9.737911568663549e-06\n",
            "Epoch number: 4131 and the loss : 9.665499419497792e-06\n",
            "Epoch number: 4141 and the loss : 9.59483440965414e-06\n",
            "Epoch number: 4151 and the loss : 9.523777407594025e-06\n",
            "Epoch number: 4161 and the loss : 9.455246981815435e-06\n",
            "Epoch number: 4171 and the loss : 9.388853868586011e-06\n",
            "Epoch number: 4181 and the loss : 9.318770025856793e-06\n",
            "Epoch number: 4191 and the loss : 9.252373274648562e-06\n",
            "Epoch number: 4201 and the loss : 9.18423211260233e-06\n",
            "Epoch number: 4211 and the loss : 9.117058652918786e-06\n",
            "Epoch number: 4221 and the loss : 9.050275366462301e-06\n",
            "Epoch number: 4231 and the loss : 8.986598913907073e-06\n",
            "Epoch number: 4241 and the loss : 8.920202162698843e-06\n",
            "Epoch number: 4251 and the loss : 8.85341978573706e-06\n",
            "Epoch number: 4261 and the loss : 8.791487744019832e-06\n",
            "Epoch number: 4271 and the loss : 8.729560249776114e-06\n",
            "Epoch number: 4281 and the loss : 8.666076610097662e-06\n",
            "Epoch number: 4291 and the loss : 8.604144568380434e-06\n",
            "Epoch number: 4301 and the loss : 8.542796422261745e-06\n",
            "Epoch number: 4311 and the loss : 8.47970113682095e-06\n",
            "Epoch number: 4321 and the loss : 8.41932251205435e-06\n",
            "Epoch number: 4331 and the loss : 8.360694664588664e-06\n",
            "Epoch number: 4341 and the loss : 8.299734872707631e-06\n",
            "Epoch number: 4351 and the loss : 8.24459766590735e-06\n",
            "Epoch number: 4361 and the loss : 8.181501470971853e-06\n",
            "Epoch number: 4371 and the loss : 8.124230589601211e-06\n",
            "Epoch number: 4381 and the loss : 8.066571353992913e-06\n",
            "Epoch number: 4391 and the loss : 8.00968973635463e-06\n",
            "Epoch number: 4401 and the loss : 7.953390195325483e-06\n",
            "Epoch number: 4411 and the loss : 7.894952432252467e-06\n",
            "Epoch number: 4421 and the loss : 7.839816134946886e-06\n",
            "Epoch number: 4431 and the loss : 7.783710316289216e-06\n",
            "Epoch number: 4441 and the loss : 7.729931894573383e-06\n",
            "Epoch number: 4451 and the loss : 7.676157110836357e-06\n",
            "Epoch number: 4461 and the loss : 7.620631095051067e-06\n",
            "Epoch number: 4471 and the loss : 7.567437478428474e-06\n",
            "Epoch number: 4481 and the loss : 7.51521338315797e-06\n",
            "Epoch number: 4491 and the loss : 7.462213034159504e-06\n",
            "Epoch number: 4501 and the loss : 7.409600129903993e-06\n",
            "Epoch number: 4511 and the loss : 7.35718140276731e-06\n",
            "Epoch number: 4521 and the loss : 7.307676241907757e-06\n",
            "Epoch number: 4531 and the loss : 7.254481715790462e-06\n",
            "Epoch number: 4541 and the loss : 7.204005214589415e-06\n",
            "Epoch number: 4551 and the loss : 7.153722435759846e-06\n",
            "Epoch number: 4561 and the loss : 7.104992619133554e-06\n",
            "Epoch number: 4571 and the loss : 7.053738499962492e-06\n",
            "Epoch number: 4581 and the loss : 7.003457085374976e-06\n",
            "Epoch number: 4591 and the loss : 6.954338005016325e-06\n",
            "Epoch number: 4601 and the loss : 6.906774615345057e-06\n",
            "Epoch number: 4611 and the loss : 6.85882196194143e-06\n",
            "Epoch number: 4621 and the loss : 6.810674221924273e-06\n",
            "Epoch number: 4631 and the loss : 6.7656337705557235e-06\n",
            "Epoch number: 4641 and the loss : 6.717486485285917e-06\n",
            "Epoch number: 4651 and the loss : 6.671281425951747e-06\n",
            "Epoch number: 4661 and the loss : 6.625463811360532e-06\n",
            "Epoch number: 4671 and the loss : 6.5792578425316606e-06\n",
            "Epoch number: 4681 and the loss : 6.534604381158715e-06\n",
            "Epoch number: 4691 and the loss : 6.489369297923986e-06\n",
            "Epoch number: 4701 and the loss : 6.4451041907886975e-06\n",
            "Epoch number: 4711 and the loss : 6.39967493043514e-06\n",
            "Epoch number: 4721 and the loss : 6.3548282014380675e-06\n",
            "Epoch number: 4731 and the loss : 6.311533979896922e-06\n",
            "Epoch number: 4741 and the loss : 6.268240213103127e-06\n",
            "Epoch number: 4751 and the loss : 6.223587661224883e-06\n",
            "Epoch number: 4761 and the loss : 6.18009971731226e-06\n",
            "Epoch number: 4771 and the loss : 6.138359367469093e-06\n",
            "Epoch number: 4781 and the loss : 6.096812739997404e-06\n",
            "Epoch number: 4791 and the loss : 6.0541005950653926e-06\n",
            "Epoch number: 4801 and the loss : 6.010612651152769e-06\n",
            "Epoch number: 4811 and the loss : 5.969259746052558e-06\n",
            "Epoch number: 4821 and the loss : 5.928684458922362e-06\n",
            "Epoch number: 4831 and the loss : 5.887137831450673e-06\n",
            "Epoch number: 4841 and the loss : 5.84597910346929e-06\n",
            "Epoch number: 4851 and the loss : 5.8065679695573635e-06\n",
            "Epoch number: 4861 and the loss : 5.767545189883094e-06\n",
            "Epoch number: 4871 and the loss : 5.72658063902054e-06\n",
            "Epoch number: 4881 and the loss : 5.688140390702756e-06\n",
            "Epoch number: 4891 and the loss : 5.649506874760846e-06\n",
            "Epoch number: 4901 and the loss : 5.6112608035618905e-06\n",
            "Epoch number: 4911 and the loss : 5.572820100496756e-06\n",
            "Epoch number: 4921 and the loss : 5.5343784879369196e-06\n",
            "Epoch number: 4931 and the loss : 5.494772722158814e-06\n",
            "Epoch number: 4941 and the loss : 5.458080067910487e-06\n",
            "Epoch number: 4951 and the loss : 5.422551566880429e-06\n",
            "Epoch number: 4961 and the loss : 5.385858912632102e-06\n",
            "Epoch number: 4971 and the loss : 5.3462531468539964e-06\n",
            "Epoch number: 4981 and the loss : 5.3136373026063666e-06\n",
            "Epoch number: 4991 and the loss : 5.274807790556224e-06\n",
            "Epoch number: 5001 and the loss : 5.241221060714452e-06\n",
            "Epoch number: 5011 and the loss : 5.2047212193429004e-06\n",
            "Epoch number: 5021 and the loss : 5.169969881535508e-06\n",
            "Epoch number: 5031 and the loss : 5.13444138050545e-06\n",
            "Epoch number: 5041 and the loss : 5.100272574054543e-06\n",
            "Epoch number: 5051 and the loss : 5.064938250143314e-06\n",
            "Epoch number: 5061 and the loss : 5.033487013861304e-06\n",
            "Epoch number: 5071 and the loss : 4.999123575544218e-06\n",
            "Epoch number: 5081 and the loss : 4.964176241628593e-06\n",
            "Epoch number: 5091 and the loss : 4.930201612296514e-06\n",
            "Epoch number: 5101 and the loss : 4.896421614830615e-06\n",
            "Epoch number: 5111 and the loss : 4.863804861088283e-06\n",
            "Epoch number: 5121 and the loss : 4.82885843666736e-06\n",
            "Epoch number: 5131 and the loss : 4.79876644021715e-06\n",
            "Epoch number: 5141 and the loss : 4.7653734327468555e-06\n",
            "Epoch number: 5151 and the loss : 4.7337275645986665e-06\n",
            "Epoch number: 5161 and the loss : 4.701887974079e-06\n",
            "Epoch number: 5171 and the loss : 4.67024165118346e-06\n",
            "Epoch number: 5181 and the loss : 4.6399550228670705e-06\n",
            "Epoch number: 5191 and the loss : 4.608115432347404e-06\n",
            "Epoch number: 5201 and the loss : 4.5770520955557e-06\n",
            "Epoch number: 5211 and the loss : 4.546377113001654e-06\n",
            "Epoch number: 5221 and the loss : 4.5160904846852645e-06\n",
            "Epoch number: 5231 and the loss : 4.485027147893561e-06\n",
            "Epoch number: 5241 and the loss : 4.455128419067478e-06\n",
            "Epoch number: 5251 and the loss : 4.425230599736096e-06\n",
            "Epoch number: 5261 and the loss : 4.396497388370335e-06\n",
            "Epoch number: 5271 and the loss : 4.367763722257223e-06\n",
            "Epoch number: 5281 and the loss : 4.3370887397031765e-06\n",
            "Epoch number: 5291 and the loss : 4.309714768169215e-06\n",
            "Epoch number: 5301 and the loss : 4.279233962733997e-06\n",
            "Epoch number: 5311 and the loss : 4.252829967299476e-06\n",
            "Epoch number: 5321 and the loss : 4.223319137963699e-06\n",
            "Epoch number: 5331 and the loss : 4.196138888801215e-06\n",
            "Epoch number: 5341 and the loss : 4.169541170995217e-06\n",
            "Epoch number: 5351 and the loss : 4.141195404372411e-06\n",
            "Epoch number: 5361 and the loss : 4.113820978091098e-06\n",
            "Epoch number: 5371 and the loss : 4.0881941458792426e-06\n",
            "Epoch number: 5381 and the loss : 4.060042556375265e-06\n",
            "Epoch number: 5391 and the loss : 4.033251116197789e-06\n",
            "Epoch number: 5401 and the loss : 4.005099526693812e-06\n",
            "Epoch number: 5411 and the loss : 3.981025201937882e-06\n",
            "Epoch number: 5421 and the loss : 3.952096903958591e-06\n",
            "Epoch number: 5431 and the loss : 3.9278293115785345e-06\n",
            "Epoch number: 5441 and the loss : 3.902007847500499e-06\n",
            "Epoch number: 5451 and the loss : 3.8756043068133295e-06\n",
            "Epoch number: 5461 and the loss : 3.853859652735991e-06\n",
            "Epoch number: 5471 and the loss : 3.828426088148262e-06\n",
            "Epoch number: 5481 and the loss : 3.8018285977159394e-06\n",
            "Epoch number: 5491 and the loss : 3.7771721963508753e-06\n",
            "Epoch number: 5501 and the loss : 3.751545136765344e-06\n",
            "Epoch number: 5511 and the loss : 3.72747103938309e-06\n",
            "Epoch number: 5521 and the loss : 3.7041731957287993e-06\n",
            "Epoch number: 5531 and the loss : 3.679322162497556e-06\n",
            "Epoch number: 5541 and the loss : 3.6542774068948347e-06\n",
            "Epoch number: 5551 and the loss : 3.6303970318840584e-06\n",
            "Epoch number: 5561 and the loss : 3.606517111620633e-06\n",
            "Epoch number: 5571 and the loss : 3.583414127206197e-06\n",
            "Epoch number: 5581 and the loss : 3.5608929920272203e-06\n",
            "Epoch number: 5591 and the loss : 3.5391483379498823e-06\n",
            "Epoch number: 5601 and the loss : 3.5139089504809817e-06\n",
            "Epoch number: 5611 and the loss : 3.4913875879283296e-06\n",
            "Epoch number: 5621 and the loss : 3.4684785532590467e-06\n",
            "Epoch number: 5631 and the loss : 3.4475108350306982e-06\n",
            "Epoch number: 5641 and the loss : 3.4238253192597767e-06\n",
            "Epoch number: 5651 and the loss : 3.401692538318457e-06\n",
            "Epoch number: 5661 and the loss : 3.3801420613599475e-06\n",
            "Epoch number: 5671 and the loss : 3.3585918117751135e-06\n",
            "Epoch number: 5681 and the loss : 3.3372355119354324e-06\n",
            "Epoch number: 5691 and the loss : 3.315685034976923e-06\n",
            "Epoch number: 5701 and the loss : 3.2941350127657643e-06\n",
            "Epoch number: 5711 and the loss : 3.272584081059904e-06\n",
            "Epoch number: 5721 and the loss : 3.2520051718165632e-06\n",
            "Epoch number: 5731 and the loss : 3.230260517739225e-06\n",
            "Epoch number: 5741 and the loss : 3.2092927995108766e-06\n",
            "Epoch number: 5751 and the loss : 3.1894896892481484e-06\n",
            "Epoch number: 5761 and the loss : 3.1687156933912775e-06\n",
            "Epoch number: 5771 and the loss : 3.1481361020269105e-06\n",
            "Epoch number: 5781 and the loss : 3.127750687781372e-06\n",
            "Epoch number: 5791 and the loss : 3.1087245133676333e-06\n",
            "Epoch number: 5801 and the loss : 3.089115352850058e-06\n",
            "Epoch number: 5811 and the loss : 3.0698952286911663e-06\n",
            "Epoch number: 5821 and the loss : 3.0495091323246015e-06\n",
            "Epoch number: 5831 and the loss : 3.030483185284538e-06\n",
            "Epoch number: 5841 and the loss : 3.010874024766963e-06\n",
            "Epoch number: 5851 and the loss : 2.9901007110311184e-06\n",
            "Epoch number: 5861 and the loss : 2.97282144856581e-06\n",
            "Epoch number: 5871 and the loss : 2.9537950467783958e-06\n",
            "Epoch number: 5881 and the loss : 2.932826646429021e-06\n",
            "Epoch number: 5891 and the loss : 2.914382548624417e-06\n",
            "Epoch number: 5901 and the loss : 2.896327032431145e-06\n",
            "Epoch number: 5911 and the loss : 2.8778827072528657e-06\n",
            "Epoch number: 5921 and the loss : 2.8596330139407655e-06\n",
            "Epoch number: 5931 and the loss : 2.8415772703738185e-06\n",
            "Epoch number: 5941 and the loss : 2.8239098810445284e-06\n",
            "Epoch number: 5951 and the loss : 2.8058541374775814e-06\n",
            "Epoch number: 5961 and the loss : 2.789157633742434e-06\n",
            "Epoch number: 5971 and the loss : 2.768383183138212e-06\n",
            "Epoch number: 5981 and the loss : 2.752657337623532e-06\n",
            "Epoch number: 5991 and the loss : 2.735960606514709e-06\n",
            "Epoch number: 6001 and the loss : 2.7190701530344086e-06\n",
            "Epoch number: 6011 and the loss : 2.7006260552298045e-06\n",
            "Epoch number: 6021 and the loss : 2.6852885639527813e-06\n",
            "Epoch number: 6031 and the loss : 2.6678151243686443e-06\n",
            "Epoch number: 6041 and the loss : 2.6505356345296605e-06\n",
            "Epoch number: 6051 and the loss : 2.6334510039305314e-06\n",
            "Epoch number: 6061 and the loss : 2.6155892101087375e-06\n",
            "Epoch number: 6071 and the loss : 2.5994752377300756e-06\n",
            "Epoch number: 6081 and the loss : 2.5825841021287488e-06\n",
            "Epoch number: 6091 and the loss : 2.566081320765079e-06\n",
            "Epoch number: 6101 and the loss : 2.5507438294880558e-06\n",
            "Epoch number: 6111 and the loss : 2.535211706344853e-06\n",
            "Epoch number: 6121 and the loss : 2.51987421506783e-06\n",
            "Epoch number: 6131 and the loss : 2.503177483959007e-06\n",
            "Epoch number: 6141 and the loss : 2.4880337150534615e-06\n",
            "Epoch number: 6151 and the loss : 2.473278300385573e-06\n",
            "Epoch number: 6161 and the loss : 2.4579408091085497e-06\n",
            "Epoch number: 6171 and the loss : 2.442991444695508e-06\n",
            "Epoch number: 6181 and the loss : 2.4276537260448094e-06\n",
            "Epoch number: 6191 and the loss : 2.409986109341844e-06\n",
            "Epoch number: 6201 and the loss : 2.395230922047631e-06\n",
            "Epoch number: 6211 and the loss : 2.3802815576345893e-06\n",
            "Epoch number: 6221 and the loss : 2.367079559917329e-06\n",
            "Epoch number: 6231 and the loss : 2.352906676605926e-06\n",
            "Epoch number: 6241 and the loss : 2.336209945497103e-06\n",
            "Epoch number: 6251 and the loss : 2.3204838726087473e-06\n",
            "Epoch number: 6261 and the loss : 2.3072821022651624e-06\n",
            "Epoch number: 6271 and the loss : 2.293108991580084e-06\n",
            "Epoch number: 6281 and the loss : 2.279130512761185e-06\n",
            "Epoch number: 6291 and the loss : 2.2651518065686105e-06\n",
            "Epoch number: 6301 and the loss : 2.251560999866342e-06\n",
            "Epoch number: 6311 and the loss : 2.2379708752851e-06\n",
            "Epoch number: 6321 and the loss : 2.2203032585821347e-06\n",
            "Epoch number: 6331 and the loss : 2.206906628998695e-06\n",
            "Epoch number: 6341 and the loss : 2.19428716263792e-06\n",
            "Epoch number: 6351 and the loss : 2.1826383544976125e-06\n",
            "Epoch number: 6361 and the loss : 2.16710623135441e-06\n",
            "Epoch number: 6371 and the loss : 2.1537102838919964e-06\n",
            "Epoch number: 6381 and the loss : 2.1405080588010605e-06\n",
            "Epoch number: 6391 and the loss : 2.126529352608486e-06\n",
            "Epoch number: 6401 and the loss : 2.114298013111693e-06\n",
            "Epoch number: 6411 and the loss : 2.102066446241224e-06\n",
            "Epoch number: 6421 and the loss : 2.089252802761621e-06\n",
            "Epoch number: 6431 and the loss : 2.074691565212561e-06\n",
            "Epoch number: 6441 and the loss : 2.062071644104435e-06\n",
            "Epoch number: 6451 and the loss : 2.0488694190134993e-06\n",
            "Epoch number: 6461 and the loss : 2.035861371041392e-06\n",
            "Epoch number: 6471 and the loss : 2.0232416773069417e-06\n",
            "Epoch number: 6481 and the loss : 2.011204514928977e-06\n",
            "Epoch number: 6491 and the loss : 1.9980025172117166e-06\n",
            "Epoch number: 6501 and the loss : 1.9861595319525804e-06\n",
            "Epoch number: 6511 and the loss : 1.9747049009311013e-06\n",
            "Epoch number: 6521 and the loss : 1.9624737888079835e-06\n",
            "Epoch number: 6531 and the loss : 1.9490771592245437e-06\n",
            "Epoch number: 6541 and the loss : 1.93820505955955e-06\n",
            "Epoch number: 6551 and the loss : 1.9267502011643955e-06\n",
            "Epoch number: 6561 and the loss : 1.9127712675981456e-06\n",
            "Epoch number: 6571 and the loss : 1.8999573967448669e-06\n",
            "Epoch number: 6581 and the loss : 1.8879201206800644e-06\n",
            "Epoch number: 6591 and the loss : 1.8770476799545577e-06\n",
            "Epoch number: 6601 and the loss : 1.8652043536349083e-06\n",
            "Epoch number: 6611 and the loss : 1.8539441271059331e-06\n",
            "Epoch number: 6621 and the loss : 1.8417125602354645e-06\n",
            "Epoch number: 6631 and the loss : 1.8321993593417574e-06\n",
            "Epoch number: 6641 and the loss : 1.820162083276955e-06\n",
            "Epoch number: 6651 and the loss : 1.8073480987368384e-06\n",
            "Epoch number: 6661 and the loss : 1.7984174291996169e-06\n",
            "Epoch number: 6671 and the loss : 1.7873508113552816e-06\n",
            "Epoch number: 6681 and the loss : 1.7764782569429372e-06\n",
            "Epoch number: 6691 and the loss : 1.7646351579969632e-06\n",
            "Epoch number: 6701 and the loss : 1.753568540152628e-06\n",
            "Epoch number: 6711 and the loss : 1.743278517096769e-06\n",
            "Epoch number: 6721 and the loss : 1.7326004808637663e-06\n",
            "Epoch number: 6731 and the loss : 1.7221165080627543e-06\n",
            "Epoch number: 6741 and the loss : 1.710661535980762e-06\n",
            "Epoch number: 6751 and the loss : 1.7013426258927211e-06\n",
            "Epoch number: 6761 and the loss : 1.6906642485992052e-06\n",
            "Epoch number: 6771 and the loss : 1.6797919215605361e-06\n",
            "Epoch number: 6781 and the loss : 1.6695021258783527e-06\n",
            "Epoch number: 6791 and the loss : 1.6599888112978078e-06\n",
            "Epoch number: 6801 and the loss : 1.6508637372680823e-06\n",
            "Epoch number: 6811 and the loss : 1.6394091062466032e-06\n",
            "Epoch number: 6821 and the loss : 1.6295073237415636e-06\n",
            "Epoch number: 6831 and the loss : 1.6192173006857047e-06\n",
            "Epoch number: 6841 and the loss : 1.6081507965282071e-06\n",
            "Epoch number: 6851 and the loss : 1.599802317286958e-06\n",
            "Epoch number: 6861 and the loss : 1.5897068124104408e-06\n",
            "Epoch number: 6871 and the loss : 1.580387447575049e-06\n",
            "Epoch number: 6881 and the loss : 1.5693209434175515e-06\n",
            "Epoch number: 6891 and the loss : 1.5603900465066545e-06\n",
            "Epoch number: 6901 and the loss : 1.5506826684941188e-06\n",
            "Epoch number: 6911 and the loss : 1.5403925317514222e-06\n",
            "Epoch number: 6921 and the loss : 1.531461748527363e-06\n",
            "Epoch number: 6931 and the loss : 1.5217541431411519e-06\n",
            "Epoch number: 6941 and the loss : 1.5124350056794356e-06\n",
            "Epoch number: 6951 and the loss : 1.5019509191915859e-06\n",
            "Epoch number: 6961 and the loss : 1.4941851986804977e-06\n",
            "Epoch number: 6971 and the loss : 1.4856424286335823e-06\n",
            "Epoch number: 6981 and the loss : 1.4774882401979994e-06\n",
            "Epoch number: 6991 and the loss : 1.4681688753626077e-06\n",
            "Epoch number: 7001 and the loss : 1.460014573240187e-06\n",
            "Epoch number: 7011 and the loss : 1.4497246638711658e-06\n",
            "Epoch number: 7021 and the loss : 1.440211349290621e-06\n",
            "Epoch number: 7031 and the loss : 1.4308922118289047e-06\n",
            "Epoch number: 7041 and the loss : 1.423514277121285e-06\n",
            "Epoch number: 7051 and the loss : 1.4141953670332441e-06\n",
            "Epoch number: 7061 and the loss : 1.4056527106731664e-06\n",
            "Epoch number: 7071 and the loss : 1.3982750033392222e-06\n",
            "Epoch number: 7081 and the loss : 1.3889559795643436e-06\n",
            "Epoch number: 7091 and the loss : 1.3819665127812186e-06\n",
            "Epoch number: 7101 and the loss : 1.3728414387514931e-06\n",
            "Epoch number: 7111 and the loss : 1.3639106555274338e-06\n",
            "Epoch number: 7121 and the loss : 1.3561445939558325e-06\n",
            "Epoch number: 7131 and the loss : 1.3474077604769263e-06\n",
            "Epoch number: 7141 and the loss : 1.339059394922515e-06\n",
            "Epoch number: 7151 and the loss : 1.3299343208927894e-06\n",
            "Epoch number: 7161 and the loss : 1.3233332083473215e-06\n",
            "Epoch number: 7171 and the loss : 1.3136257166479481e-06\n",
            "Epoch number: 7181 and the loss : 1.3066362498648232e-06\n",
            "Epoch number: 7191 and the loss : 1.2986760111743934e-06\n",
            "Epoch number: 7201 and the loss : 1.2905217090519727e-06\n",
            "Epoch number: 7211 and the loss : 1.2823675206163898e-06\n",
            "Epoch number: 7221 and the loss : 1.2757662943840842e-06\n",
            "Epoch number: 7231 and the loss : 1.2676118785748258e-06\n",
            "Epoch number: 7241 and the loss : 1.259457690139243e-06\n",
            "Epoch number: 7251 and the loss : 1.252468223356118e-06\n",
            "Epoch number: 7261 and the loss : 1.2445082120393636e-06\n",
            "Epoch number: 7271 and the loss : 1.2379070994938957e-06\n",
            "Epoch number: 7281 and the loss : 1.2293643294469803e-06\n",
            "Epoch number: 7291 and the loss : 1.2225691534695216e-06\n",
            "Epoch number: 7301 and the loss : 1.2159680409240536e-06\n",
            "Epoch number: 7311 and the loss : 1.2087845107089379e-06\n",
            "Epoch number: 7321 and the loss : 1.2006300948996795e-06\n",
            "Epoch number: 7331 and the loss : 1.194028868667374e-06\n",
            "Epoch number: 7341 and the loss : 1.185874680231791e-06\n",
            "Epoch number: 7351 and the loss : 1.179855985355971e-06\n",
            "Epoch number: 7361 and the loss : 1.1726724551408552e-06\n",
            "Epoch number: 7371 and the loss : 1.1649063935692539e-06\n",
            "Epoch number: 7381 and the loss : 1.1592760529310908e-06\n",
            "Epoch number: 7391 and the loss : 1.1501509789013653e-06\n",
            "Epoch number: 7401 and the loss : 1.143744043474726e-06\n",
            "Epoch number: 7411 and the loss : 1.1359779819031246e-06\n",
            "Epoch number: 7421 and the loss : 1.1293768693576567e-06\n",
            "Epoch number: 7431 and the loss : 1.1223874025745317e-06\n",
            "Epoch number: 7441 and the loss : 1.1169512390551972e-06\n",
            "Epoch number: 7451 and the loss : 1.1097675951532437e-06\n",
            "Epoch number: 7461 and the loss : 1.1039430773962522e-06\n",
            "Epoch number: 7471 and the loss : 1.0963713066303171e-06\n",
            "Epoch number: 7481 and the loss : 1.0905467888733256e-06\n",
            "Epoch number: 7491 and the loss : 1.0829749044205528e-06\n",
            "Epoch number: 7501 and the loss : 1.076762146112742e-06\n",
            "Epoch number: 7511 and the loss : 1.0695786158976262e-06\n",
            "Epoch number: 7521 and the loss : 1.0633657439029776e-06\n",
            "Epoch number: 7531 and the loss : 1.0563763908066903e-06\n",
            "Epoch number: 7541 and the loss : 1.0505518730496988e-06\n",
            "Epoch number: 7551 and the loss : 1.0427859251649352e-06\n",
            "Epoch number: 7561 and the loss : 1.03773800219642e-06\n",
            "Epoch number: 7571 and the loss : 1.032107661558257e-06\n",
            "Epoch number: 7581 and the loss : 1.0262831438012654e-06\n",
            "Epoch number: 7591 and the loss : 1.0194880815106444e-06\n",
            "Epoch number: 7601 and the loss : 1.0138576271856437e-06\n",
            "Epoch number: 7611 and the loss : 1.005314970825566e-06\n",
            "Epoch number: 7621 and the loss : 9.998789209930692e-07\n",
            "Epoch number: 7631 and the loss : 9.942484666680684e-07\n",
            "Epoch number: 7641 and the loss : 9.886180123430677e-07\n",
            "Epoch number: 7651 and the loss : 9.831818488237332e-07\n",
            "Epoch number: 7661 and the loss : 9.783279892872088e-07\n",
            "Epoch number: 7671 and the loss : 9.719210538605694e-07\n",
            "Epoch number: 7681 and the loss : 9.670674216977204e-07\n",
            "Epoch number: 7691 and the loss : 9.606603725842433e-07\n",
            "Epoch number: 7701 and the loss : 9.532827220937179e-07\n",
            "Epoch number: 7711 and the loss : 9.492056847193453e-07\n",
            "Epoch number: 7721 and the loss : 9.424103950550489e-07\n",
            "Epoch number: 7731 and the loss : 9.36779997573467e-07\n",
            "Epoch number: 7741 and the loss : 9.309554229730566e-07\n",
            "Epoch number: 7751 and the loss : 9.259075568479602e-07\n",
            "Epoch number: 7761 and the loss : 9.196946848533116e-07\n",
            "Epoch number: 7771 and the loss : 9.152291795544443e-07\n",
            "Epoch number: 7781 and the loss : 9.099870794671006e-07\n",
            "Epoch number: 7791 and the loss : 9.04162561710109e-07\n",
            "Epoch number: 7801 and the loss : 8.995031066660886e-07\n",
            "Epoch number: 7811 and the loss : 8.936785320656782e-07\n",
            "Epoch number: 7821 and the loss : 8.886305522537441e-07\n",
            "Epoch number: 7831 and the loss : 8.826119710647617e-07\n",
            "Epoch number: 7841 and the loss : 8.787289402789611e-07\n",
            "Epoch number: 7851 and the loss : 8.729044793653884e-07\n",
            "Epoch number: 7861 and the loss : 8.680506766722829e-07\n",
            "Epoch number: 7871 and the loss : 8.626143994661106e-07\n",
            "Epoch number: 7881 and the loss : 8.573722993787669e-07\n",
            "Epoch number: 7891 and the loss : 8.515477247783565e-07\n",
            "Epoch number: 7901 and the loss : 8.468882128909172e-07\n",
            "Epoch number: 7911 and the loss : 8.42811004986288e-07\n",
            "Epoch number: 7921 and the loss : 8.367921964236302e-07\n",
            "Epoch number: 7931 and the loss : 8.321326276927721e-07\n",
            "Epoch number: 7941 and the loss : 8.280554766315618e-07\n",
            "Epoch number: 7951 and the loss : 8.232016739384562e-07\n",
            "Epoch number: 7961 and the loss : 8.179595738511125e-07\n",
            "Epoch number: 7971 and the loss : 8.127174737637688e-07\n",
            "Epoch number: 7981 and the loss : 8.074754305198439e-07\n",
            "Epoch number: 7991 and the loss : 8.033982794586336e-07\n",
            "Epoch number: 8001 and the loss : 7.98156122527871e-07\n",
            "Epoch number: 8011 and the loss : 7.927199590085365e-07\n",
            "Epoch number: 8021 and the loss : 7.876719791966025e-07\n",
            "Epoch number: 8031 and the loss : 7.837889484108018e-07\n",
            "Epoch number: 8041 and the loss : 7.812649869265442e-07\n",
            "Epoch number: 8051 and the loss : 7.767995953145146e-07\n",
            "Epoch number: 8061 and the loss : 7.703926030444563e-07\n",
            "Epoch number: 8071 and the loss : 7.668978696528939e-07\n",
            "Epoch number: 8081 and the loss : 7.604908773828356e-07\n",
            "Epoch number: 8091 and the loss : 7.564137263216253e-07\n",
            "Epoch number: 8101 and the loss : 7.523366321038338e-07\n",
            "Epoch number: 8111 and the loss : 7.478711268049665e-07\n",
            "Epoch number: 8121 and the loss : 7.434057351929368e-07\n",
            "Epoch number: 8131 and the loss : 7.387461096186598e-07\n",
            "Epoch number: 8141 and the loss : 7.346689585574495e-07\n",
            "Epoch number: 8151 and the loss : 7.302034532585822e-07\n",
            "Epoch number: 8161 and the loss : 7.249614100146573e-07\n",
            "Epoch number: 8171 and the loss : 7.218550308607519e-07\n",
            "Epoch number: 8181 and the loss : 7.187485948634276e-07\n",
            "Epoch number: 8191 and the loss : 7.140889692891506e-07\n",
            "Epoch number: 8201 and the loss : 7.104001724655973e-07\n",
            "Epoch number: 8211 and the loss : 7.055463697724917e-07\n",
            "Epoch number: 8221 and the loss : 7.024399906185863e-07\n",
            "Epoch number: 8231 and the loss : 6.973920676500711e-07\n",
            "Epoch number: 8241 and the loss : 6.927323852323752e-07\n",
            "Epoch number: 8251 and the loss : 6.888494681334123e-07\n",
            "Epoch number: 8261 and the loss : 6.863255066491547e-07\n",
            "Epoch number: 8271 and the loss : 6.805009320487443e-07\n",
            "Epoch number: 8281 and the loss : 6.760354267498769e-07\n",
            "Epoch number: 8291 and the loss : 6.72734870477143e-07\n",
            "Epoch number: 8301 and the loss : 6.700167318740569e-07\n",
            "Epoch number: 8311 and the loss : 6.65745403694018e-07\n",
            "Epoch number: 8321 and the loss : 6.61085778119741e-07\n",
            "Epoch number: 8331 and the loss : 6.572027473339404e-07\n",
            "Epoch number: 8341 and the loss : 6.531255394293112e-07\n",
            "Epoch number: 8351 and the loss : 6.490483883681009e-07\n",
            "Epoch number: 8361 and the loss : 6.443888764806616e-07\n",
            "Epoch number: 8371 and the loss : 6.408941430890991e-07\n",
            "Epoch number: 8381 and the loss : 6.373994096975366e-07\n",
            "Epoch number: 8391 and the loss : 6.337104991871456e-07\n",
            "Epoch number: 8401 and the loss : 6.288566964940401e-07\n",
            "Epoch number: 8411 and the loss : 6.257503741835535e-07\n",
            "Epoch number: 8421 and the loss : 6.224497610674007e-07\n",
            "Epoch number: 8431 and the loss : 6.179843126119522e-07\n",
            "Epoch number: 8441 and the loss : 6.152661740088661e-07\n",
            "Epoch number: 8451 and the loss : 6.119655608927133e-07\n",
            "Epoch number: 8461 and the loss : 6.082767072257411e-07\n",
            "Epoch number: 8471 and the loss : 6.040053222022834e-07\n",
            "Epoch number: 8481 and the loss : 6.014813607180258e-07\n",
            "Epoch number: 8491 and the loss : 5.966275580249203e-07\n",
            "Epoch number: 8501 and the loss : 5.933270017521863e-07\n",
            "Epoch number: 8511 and the loss : 5.906089199925191e-07\n",
            "Epoch number: 8521 and the loss : 5.871141866009566e-07\n",
            "Epoch number: 8531 and the loss : 5.82648794988927e-07\n",
            "Epoch number: 8541 and the loss : 5.795424158350215e-07\n",
            "Epoch number: 8551 and the loss : 5.774067517450021e-07\n",
            "Epoch number: 8561 and the loss : 5.737178412346111e-07\n",
            "Epoch number: 8571 and the loss : 5.709998163183627e-07\n",
            "Epoch number: 8581 and the loss : 5.669226084137335e-07\n",
            "Epoch number: 8591 and the loss : 5.632337547467614e-07\n",
            "Epoch number: 8601 and the loss : 5.601273187494371e-07\n",
            "Epoch number: 8611 and the loss : 5.572150030275225e-07\n",
            "Epoch number: 8621 and the loss : 5.539144467547885e-07\n",
            "Epoch number: 8631 and the loss : 5.490607577485207e-07\n",
            "Epoch number: 8641 and the loss : 5.477016316035588e-07\n",
            "Epoch number: 8651 and the loss : 5.445951956062345e-07\n",
            "Epoch number: 8661 and the loss : 5.426536517916247e-07\n",
            "Epoch number: 8671 and the loss : 5.383823236115859e-07\n",
            "Epoch number: 8681 and the loss : 5.352758876142616e-07\n",
            "Epoch number: 8691 and the loss : 5.325578058545943e-07\n",
            "Epoch number: 8701 and the loss : 5.288689521876222e-07\n",
            "Epoch number: 8711 and the loss : 5.261508135845361e-07\n",
            "Epoch number: 8721 and the loss : 5.2343267498145e-07\n",
            "Epoch number: 8731 and the loss : 5.193554670768208e-07\n",
            "Epoch number: 8741 and the loss : 5.162490879229154e-07\n",
            "Epoch number: 8751 and the loss : 5.135309493198292e-07\n",
            "Epoch number: 8761 and the loss : 5.102303930470953e-07\n",
            "Epoch number: 8771 and the loss : 5.08483026351314e-07\n",
            "Epoch number: 8781 and the loss : 5.044058752901037e-07\n",
            "Epoch number: 8791 and the loss : 5.011053190173698e-07\n",
            "Epoch number: 8801 and the loss : 4.989695980839315e-07\n",
            "Epoch number: 8811 and the loss : 4.968339339939121e-07\n",
            "Epoch number: 8821 and the loss : 4.931450803269399e-07\n",
            "Epoch number: 8831 and the loss : 4.904269985672727e-07\n",
            "Epoch number: 8841 and the loss : 4.873205625699484e-07\n",
            "Epoch number: 8851 and the loss : 4.847966010856908e-07\n",
            "Epoch number: 8861 and the loss : 4.807193931810616e-07\n",
            "Epoch number: 8871 and the loss : 4.785837290910422e-07\n",
            "Epoch number: 8881 and the loss : 4.766422421198513e-07\n",
            "Epoch number: 8891 and the loss : 4.7256506263693154e-07\n",
            "Epoch number: 8901 and the loss : 4.700410727309645e-07\n",
            "Epoch number: 8911 and the loss : 4.679054086409451e-07\n",
            "Epoch number: 8921 and the loss : 4.65575624275516e-07\n",
            "Epoch number: 8931 and the loss : 4.626633085536014e-07\n",
            "Epoch number: 8941 and the loss : 4.601393754910532e-07\n",
            "Epoch number: 8951 and the loss : 4.576154140067956e-07\n",
            "Epoch number: 8961 and the loss : 4.5373235479928553e-07\n",
            "Epoch number: 8971 and the loss : 4.514025988555659e-07\n",
            "Epoch number: 8981 and the loss : 4.482961628582416e-07\n",
            "Epoch number: 8991 and the loss : 4.459663500711031e-07\n",
            "Epoch number: 9001 and the loss : 4.436364520188363e-07\n",
            "Epoch number: 9011 and the loss : 4.393651806822163e-07\n",
            "Epoch number: 9021 and the loss : 4.37423665289316e-07\n",
            "Epoch number: 9031 and the loss : 4.3528797277758713e-07\n",
            "Epoch number: 9041 and the loss : 4.3256986259621044e-07\n",
            "Epoch number: 9051 and the loss : 4.306283472033101e-07\n",
            "Epoch number: 9061 and the loss : 4.2849265469158127e-07\n",
            "Epoch number: 9071 and the loss : 4.2538621869425697e-07\n",
            "Epoch number: 9081 and the loss : 4.2305640590711846e-07\n",
            "Epoch number: 9091 and the loss : 4.1994996990979416e-07\n",
            "Epoch number: 9101 and the loss : 4.17426036847246e-07\n",
            "Epoch number: 9111 and the loss : 4.1567867015146476e-07\n",
            "Epoch number: 9121 and the loss : 4.133489142077451e-07\n",
            "Epoch number: 9131 and the loss : 4.1101907299889717e-07\n",
            "Epoch number: 9141 and the loss : 4.075243396073347e-07\n",
            "Epoch number: 9151 and the loss : 4.051945268201962e-07\n",
            "Epoch number: 9161 and the loss : 4.0267053691422916e-07\n",
            "Epoch number: 9171 and the loss : 4.005349296676286e-07\n",
            "Epoch number: 9181 and the loss : 3.980109397616616e-07\n",
            "Epoch number: 9191 and the loss : 3.950986808831658e-07\n",
            "Epoch number: 9201 and the loss : 3.9393376027874183e-07\n",
            "Epoch number: 9211 and the loss : 3.923805422800797e-07\n",
            "Epoch number: 9221 and the loss : 3.8830339121886936e-07\n",
            "Epoch number: 9231 and the loss : 3.871384990361548e-07\n",
            "Epoch number: 9241 and the loss : 3.846145091301878e-07\n",
            "Epoch number: 9251 and the loss : 3.822846963430493e-07\n",
            "Epoch number: 9261 and the loss : 3.8034318095014896e-07\n",
            "Epoch number: 9271 and the loss : 3.7878999137319624e-07\n",
            "Epoch number: 9281 and the loss : 3.7587770407299104e-07\n",
            "Epoch number: 9291 and the loss : 3.74518634771448e-07\n",
            "Epoch number: 9301 and the loss : 3.721888504060189e-07\n",
            "Epoch number: 9311 and the loss : 3.71218078498714e-07\n",
            "Epoch number: 9321 and the loss : 3.6791749380427063e-07\n",
            "Epoch number: 9331 and the loss : 3.659759784113703e-07\n",
            "Epoch number: 9341 and the loss : 3.6442276041270816e-07\n",
            "Epoch number: 9351 and the loss : 3.6248124501980783e-07\n",
            "Epoch number: 9361 and the loss : 3.5898651162824535e-07\n",
            "Epoch number: 9371 and the loss : 3.578215910238214e-07\n",
            "Epoch number: 9381 and the loss : 3.5607422432804015e-07\n",
            "Epoch number: 9391 and the loss : 3.525795193581871e-07\n",
            "Epoch number: 9401 and the loss : 3.5083215266240586e-07\n",
            "Epoch number: 9411 and the loss : 3.494730833608628e-07\n",
            "Epoch number: 9421 and the loss : 3.4889063726950553e-07\n",
            "Epoch number: 9431 and the loss : 3.4559005257506215e-07\n",
            "Epoch number: 9441 and the loss : 3.432602113662142e-07\n",
            "Epoch number: 9451 and the loss : 3.4209531918349967e-07\n",
            "Epoch number: 9461 and the loss : 3.3937718058041355e-07\n",
            "Epoch number: 9471 and the loss : 3.3762984230634174e-07\n",
            "Epoch number: 9481 and the loss : 3.356883269134414e-07\n",
            "Epoch number: 9491 and the loss : 3.333584857045935e-07\n",
            "Epoch number: 9501 and the loss : 3.3180526770593133e-07\n",
            "Epoch number: 9511 and the loss : 3.308345242203359e-07\n",
            "Epoch number: 9521 and the loss : 3.2928130622167373e-07\n",
            "Epoch number: 9531 and the loss : 3.273397908287734e-07\n",
            "Epoch number: 9541 and the loss : 3.244275035285682e-07\n",
            "Epoch number: 9551 and the loss : 3.2365090874009184e-07\n",
            "Epoch number: 9561 and the loss : 3.217093933471915e-07\n",
            "Epoch number: 9571 and the loss : 3.2035032404564845e-07\n",
            "Epoch number: 9581 and the loss : 3.1743806516715267e-07\n",
            "Epoch number: 9591 and the loss : 3.149141036828951e-07\n",
            "Epoch number: 9601 and the loss : 3.120018448043993e-07\n",
            "Epoch number: 9611 and the loss : 3.1103110131880385e-07\n",
            "Epoch number: 9621 and the loss : 3.0889543722878443e-07\n",
            "Epoch number: 9631 and the loss : 3.0792466532147955e-07\n",
            "Epoch number: 9641 and the loss : 3.059831499285792e-07\n",
            "Epoch number: 9651 and the loss : 3.038474858385598e-07\n",
            "Epoch number: 9661 and the loss : 3.017118217485404e-07\n",
            "Epoch number: 9671 and the loss : 3.0035275244699733e-07\n",
            "Epoch number: 9681 and the loss : 2.9996445505275915e-07\n",
            "Epoch number: 9691 and the loss : 2.9763464226562064e-07\n",
            "Epoch number: 9701 and the loss : 2.9588730399154883e-07\n",
            "Epoch number: 9711 and the loss : 2.935574627827009e-07\n",
            "Epoch number: 9721 and the loss : 2.9200424478403875e-07\n",
            "Epoch number: 9731 and the loss : 2.902568496665481e-07\n",
            "Epoch number: 9741 and the loss : 2.896744035751908e-07\n",
            "Epoch number: 9751 and the loss : 2.867621162749856e-07\n",
            "Epoch number: 9761 and the loss : 2.8540307539515197e-07\n",
            "Epoch number: 9771 and the loss : 2.8404403451531834e-07\n",
            "Epoch number: 9781 and the loss : 2.819083420035895e-07\n",
            "Epoch number: 9791 and the loss : 2.8054930112375587e-07\n",
            "Epoch number: 9801 and the loss : 2.793843805193319e-07\n",
            "Epoch number: 9811 and the loss : 2.78413608612027e-07\n",
            "Epoch number: 9821 and the loss : 2.7569549843065033e-07\n",
            "Epoch number: 9831 and the loss : 2.7433642912910727e-07\n",
            "Epoch number: 9841 and the loss : 2.733656572218024e-07\n",
            "Epoch number: 9851 and the loss : 2.716183189477306e-07\n",
            "Epoch number: 9861 and the loss : 2.69094357463473e-07\n",
            "Epoch number: 9871 and the loss : 2.681235855561681e-07\n",
            "Epoch number: 9881 and the loss : 2.6637621886038687e-07\n",
            "Epoch number: 9891 and the loss : 2.657937727690296e-07\n",
            "Epoch number: 9901 and the loss : 2.632697828630626e-07\n",
            "Epoch number: 9911 and the loss : 2.622990393774671e-07\n",
            "Epoch number: 9921 and the loss : 2.605516726816859e-07\n",
            "Epoch number: 9931 and the loss : 2.599691981686192e-07\n",
            "Epoch number: 9941 and the loss : 2.5861015728878556e-07\n",
            "Epoch number: 9951 and the loss : 2.5744529352778045e-07\n",
            "Epoch number: 9961 and the loss : 2.553096010160516e-07\n",
            "Epoch number: 9971 and the loss : 2.5356223432027036e-07\n",
            "Epoch number: 9981 and the loss : 2.5123242153313186e-07\n",
            "Epoch number: 9991 and the loss : 2.506499754417746e-07\n",
            "17.275943517684937\n"
          ],
          "name": "stdout"
        }
      ]
    },
    {
      "cell_type": "code",
      "metadata": {
        "colab": {
          "base_uri": "https://localhost:8080/",
          "height": 623
        },
        "id": "ciYEJJW2fy0B",
        "outputId": "010cdc36-ee2b-45da-866e-23e7a63af833"
      },
      "source": [
        "import matplotlib.pyplot as plt\n",
        "plt.figure(figsize=(12,10))\n",
        "plt.plot(range(epochs),final_losses)\n",
        "plt.ylabel('Loss')\n",
        "plt.xlabel('Epoch')"
      ],
      "execution_count": 194,
      "outputs": [
        {
          "output_type": "execute_result",
          "data": {
            "text/plain": [
              "Text(0.5, 0, 'Epoch')"
            ]
          },
          "metadata": {
            "tags": []
          },
          "execution_count": 194
        },
        {
          "output_type": "display_data",
          "data": {
            "image/png": "[encoded data removed]",
            "text/plain": [
              "<Figure size 864x720 with 1 Axes>"
            ]
          },
          "metadata": {
            "tags": [],
            "needs_background": "light"
          }
        }
      ]
    },
    {
      "cell_type": "code",
      "metadata": {
        "colab": {
          "base_uri": "https://localhost:8080/"
        },
        "id": "B2TYZXHFf8pd",
        "outputId": "104e06d7-4862-42a9-cd5b-48e522e7691c"
      },
      "source": [
        "predictions=[]\n",
        "with torch.no_grad():\n",
        "    for i,data in enumerate(X_test):\n",
        "        y_pred=model(data)\n",
        "        predictions.append(y_pred.argmax().item())\n",
        "        print(y_pred.argmax().item())"
      ],
      "execution_count": 195,
      "outputs": [
        {
          "output_type": "stream",
          "text": [
            "1\n",
            "0\n",
            "0\n",
            "0\n",
            "0\n",
            "0\n",
            "1\n",
            "1\n",
            "1\n",
            "0\n",
            "1\n",
            "1\n",
            "0\n",
            "0\n",
            "1\n",
            "1\n",
            "1\n",
            "0\n",
            "0\n",
            "0\n",
            "0\n",
            "0\n",
            "0\n",
            "1\n",
            "0\n",
            "1\n",
            "0\n",
            "1\n",
            "0\n",
            "0\n",
            "1\n",
            "0\n",
            "0\n",
            "0\n",
            "0\n",
            "1\n",
            "1\n",
            "0\n",
            "0\n",
            "1\n",
            "1\n",
            "0\n",
            "1\n",
            "1\n",
            "1\n",
            "0\n",
            "0\n",
            "0\n",
            "0\n",
            "0\n",
            "0\n",
            "0\n",
            "1\n",
            "0\n",
            "0\n",
            "0\n",
            "0\n",
            "0\n",
            "0\n",
            "0\n",
            "1\n",
            "0\n",
            "0\n",
            "1\n",
            "1\n",
            "1\n",
            "1\n",
            "0\n",
            "1\n",
            "0\n",
            "0\n",
            "1\n",
            "0\n",
            "1\n",
            "1\n",
            "0\n",
            "0\n",
            "1\n",
            "0\n",
            "0\n",
            "1\n",
            "0\n",
            "1\n",
            "0\n",
            "1\n",
            "0\n",
            "0\n",
            "1\n",
            "1\n",
            "0\n",
            "0\n",
            "0\n",
            "0\n",
            "0\n",
            "1\n",
            "0\n",
            "0\n",
            "0\n",
            "0\n",
            "1\n",
            "0\n",
            "0\n",
            "0\n",
            "0\n",
            "0\n",
            "0\n",
            "0\n",
            "1\n",
            "0\n",
            "1\n",
            "0\n",
            "0\n",
            "1\n",
            "1\n",
            "1\n",
            "1\n",
            "0\n",
            "1\n",
            "0\n",
            "1\n",
            "0\n",
            "1\n",
            "0\n",
            "0\n",
            "0\n",
            "0\n",
            "1\n",
            "0\n",
            "0\n",
            "0\n",
            "0\n",
            "0\n",
            "0\n",
            "1\n",
            "0\n",
            "0\n",
            "0\n",
            "0\n",
            "1\n",
            "0\n",
            "0\n",
            "1\n",
            "0\n",
            "0\n",
            "1\n",
            "0\n",
            "0\n",
            "0\n",
            "0\n",
            "1\n",
            "0\n",
            "0\n",
            "0\n",
            "0\n"
          ],
          "name": "stdout"
        }
      ]
    },
    {
      "cell_type": "code",
      "metadata": {
        "colab": {
          "base_uri": "https://localhost:8080/",
          "height": 340
        },
        "id": "RonSieHMgdYr",
        "outputId": "48abc81e-0da6-4002-fbc1-30c32a1b5f29"
      },
      "source": [
        "from sklearn.metrics import confusion_matrix\n",
        "cm=confusion_matrix(y_test,pred1)\n",
        "cm"
      ],
      "execution_count": 196,
      "outputs": [
        {
          "output_type": "error",
          "ename": "TypeError",
          "evalue": "ignored",
          "traceback": [
            "\u001b[0;31m---------------------------------------------------------------------------\u001b[0m",
            "\u001b[0;31mTypeError\u001b[0m                                 Traceback (most recent call last)",
            "\u001b[0;32m<ipython-input-196-2e612c6d8879>\u001b[0m in \u001b[0;36m<module>\u001b[0;34m()\u001b[0m\n\u001b[1;32m      1\u001b[0m \u001b[0;32mfrom\u001b[0m \u001b[0msklearn\u001b[0m\u001b[0;34m.\u001b[0m\u001b[0mmetrics\u001b[0m \u001b[0;32mimport\u001b[0m \u001b[0mconfusion_matrix\u001b[0m\u001b[0;34m\u001b[0m\u001b[0;34m\u001b[0m\u001b[0m\n\u001b[0;32m----> 2\u001b[0;31m \u001b[0mcm\u001b[0m\u001b[0;34m=\u001b[0m\u001b[0mconfusion_matrix\u001b[0m\u001b[0;34m(\u001b[0m\u001b[0my_test\u001b[0m\u001b[0;34m,\u001b[0m\u001b[0mpred1\u001b[0m\u001b[0;34m)\u001b[0m\u001b[0;34m\u001b[0m\u001b[0;34m\u001b[0m\u001b[0m\n\u001b[0m\u001b[1;32m      3\u001b[0m \u001b[0mcm\u001b[0m\u001b[0;34m\u001b[0m\u001b[0;34m\u001b[0m\u001b[0m\n",
            "\u001b[0;32m/usr/local/lib/python3.7/dist-packages/sklearn/metrics/_classification.py\u001b[0m in \u001b[0;36mconfusion_matrix\u001b[0;34m(y_true, y_pred, labels, sample_weight, normalize)\u001b[0m\n\u001b[1;32m    266\u001b[0m \u001b[0;34m\u001b[0m\u001b[0m\n\u001b[1;32m    267\u001b[0m     \"\"\"\n\u001b[0;32m--> 268\u001b[0;31m     \u001b[0my_type\u001b[0m\u001b[0;34m,\u001b[0m \u001b[0my_true\u001b[0m\u001b[0;34m,\u001b[0m \u001b[0my_pred\u001b[0m \u001b[0;34m=\u001b[0m \u001b[0m_check_targets\u001b[0m\u001b[0;34m(\u001b[0m\u001b[0my_true\u001b[0m\u001b[0;34m,\u001b[0m \u001b[0my_pred\u001b[0m\u001b[0;34m)\u001b[0m\u001b[0;34m\u001b[0m\u001b[0;34m\u001b[0m\u001b[0m\n\u001b[0m\u001b[1;32m    269\u001b[0m     \u001b[0;32mif\u001b[0m \u001b[0my_type\u001b[0m \u001b[0;32mnot\u001b[0m \u001b[0;32min\u001b[0m \u001b[0;34m(\u001b[0m\u001b[0;34m\"binary\"\u001b[0m\u001b[0;34m,\u001b[0m \u001b[0;34m\"multiclass\"\u001b[0m\u001b[0;34m)\u001b[0m\u001b[0;34m:\u001b[0m\u001b[0;34m\u001b[0m\u001b[0;34m\u001b[0m\u001b[0m\n\u001b[1;32m    270\u001b[0m         \u001b[0;32mraise\u001b[0m \u001b[0mValueError\u001b[0m\u001b[0;34m(\u001b[0m\u001b[0;34m\"%s is not supported\"\u001b[0m \u001b[0;34m%\u001b[0m \u001b[0my_type\u001b[0m\u001b[0;34m)\u001b[0m\u001b[0;34m\u001b[0m\u001b[0;34m\u001b[0m\u001b[0m\n",
            "\u001b[0;32m/usr/local/lib/python3.7/dist-packages/sklearn/metrics/_classification.py\u001b[0m in \u001b[0;36m_check_targets\u001b[0;34m(y_true, y_pred)\u001b[0m\n\u001b[1;32m     79\u001b[0m     \"\"\"\n\u001b[1;32m     80\u001b[0m     \u001b[0mcheck_consistent_length\u001b[0m\u001b[0;34m(\u001b[0m\u001b[0my_true\u001b[0m\u001b[0;34m,\u001b[0m \u001b[0my_pred\u001b[0m\u001b[0;34m)\u001b[0m\u001b[0;34m\u001b[0m\u001b[0;34m\u001b[0m\u001b[0m\n\u001b[0;32m---> 81\u001b[0;31m     \u001b[0mtype_true\u001b[0m \u001b[0;34m=\u001b[0m \u001b[0mtype_of_target\u001b[0m\u001b[0;34m(\u001b[0m\u001b[0my_true\u001b[0m\u001b[0;34m)\u001b[0m\u001b[0;34m\u001b[0m\u001b[0;34m\u001b[0m\u001b[0m\n\u001b[0m\u001b[1;32m     82\u001b[0m     \u001b[0mtype_pred\u001b[0m \u001b[0;34m=\u001b[0m \u001b[0mtype_of_target\u001b[0m\u001b[0;34m(\u001b[0m\u001b[0my_pred\u001b[0m\u001b[0;34m)\u001b[0m\u001b[0;34m\u001b[0m\u001b[0;34m\u001b[0m\u001b[0m\n\u001b[1;32m     83\u001b[0m \u001b[0;34m\u001b[0m\u001b[0m\n",
            "\u001b[0;32m/usr/local/lib/python3.7/dist-packages/sklearn/utils/multiclass.py\u001b[0m in \u001b[0;36mtype_of_target\u001b[0;34m(y)\u001b[0m\n\u001b[1;32m    245\u001b[0m         \u001b[0;32mraise\u001b[0m \u001b[0mValueError\u001b[0m\u001b[0;34m(\u001b[0m\u001b[0;34m\"y cannot be class 'SparseSeries' or 'SparseArray'\"\u001b[0m\u001b[0;34m)\u001b[0m\u001b[0;34m\u001b[0m\u001b[0;34m\u001b[0m\u001b[0m\n\u001b[1;32m    246\u001b[0m \u001b[0;34m\u001b[0m\u001b[0m\n\u001b[0;32m--> 247\u001b[0;31m     \u001b[0;32mif\u001b[0m \u001b[0mis_multilabel\u001b[0m\u001b[0;34m(\u001b[0m\u001b[0my\u001b[0m\u001b[0;34m)\u001b[0m\u001b[0;34m:\u001b[0m\u001b[0;34m\u001b[0m\u001b[0;34m\u001b[0m\u001b[0m\n\u001b[0m\u001b[1;32m    248\u001b[0m         \u001b[0;32mreturn\u001b[0m \u001b[0;34m'multilabel-indicator'\u001b[0m\u001b[0;34m\u001b[0m\u001b[0;34m\u001b[0m\u001b[0m\n\u001b[1;32m    249\u001b[0m \u001b[0;34m\u001b[0m\u001b[0m\n",
            "\u001b[0;32m/usr/local/lib/python3.7/dist-packages/sklearn/utils/multiclass.py\u001b[0m in \u001b[0;36mis_multilabel\u001b[0;34m(y)\u001b[0m\n\u001b[1;32m    136\u001b[0m     \"\"\"\n\u001b[1;32m    137\u001b[0m     \u001b[0;32mif\u001b[0m \u001b[0mhasattr\u001b[0m\u001b[0;34m(\u001b[0m\u001b[0my\u001b[0m\u001b[0;34m,\u001b[0m \u001b[0;34m'__array__'\u001b[0m\u001b[0;34m)\u001b[0m \u001b[0;32mor\u001b[0m \u001b[0misinstance\u001b[0m\u001b[0;34m(\u001b[0m\u001b[0my\u001b[0m\u001b[0;34m,\u001b[0m \u001b[0mSequence\u001b[0m\u001b[0;34m)\u001b[0m\u001b[0;34m:\u001b[0m\u001b[0;34m\u001b[0m\u001b[0;34m\u001b[0m\u001b[0m\n\u001b[0;32m--> 138\u001b[0;31m         \u001b[0my\u001b[0m \u001b[0;34m=\u001b[0m \u001b[0mnp\u001b[0m\u001b[0;34m.\u001b[0m\u001b[0masarray\u001b[0m\u001b[0;34m(\u001b[0m\u001b[0my\u001b[0m\u001b[0;34m)\u001b[0m\u001b[0;34m\u001b[0m\u001b[0;34m\u001b[0m\u001b[0m\n\u001b[0m\u001b[1;32m    139\u001b[0m     \u001b[0;32mif\u001b[0m \u001b[0;32mnot\u001b[0m \u001b[0;34m(\u001b[0m\u001b[0mhasattr\u001b[0m\u001b[0;34m(\u001b[0m\u001b[0my\u001b[0m\u001b[0;34m,\u001b[0m \u001b[0;34m\"shape\"\u001b[0m\u001b[0;34m)\u001b[0m \u001b[0;32mand\u001b[0m \u001b[0my\u001b[0m\u001b[0;34m.\u001b[0m\u001b[0mndim\u001b[0m \u001b[0;34m==\u001b[0m \u001b[0;36m2\u001b[0m \u001b[0;32mand\u001b[0m \u001b[0my\u001b[0m\u001b[0;34m.\u001b[0m\u001b[0mshape\u001b[0m\u001b[0;34m[\u001b[0m\u001b[0;36m1\u001b[0m\u001b[0;34m]\u001b[0m \u001b[0;34m>\u001b[0m \u001b[0;36m1\u001b[0m\u001b[0;34m)\u001b[0m\u001b[0;34m:\u001b[0m\u001b[0;34m\u001b[0m\u001b[0;34m\u001b[0m\u001b[0m\n\u001b[1;32m    140\u001b[0m         \u001b[0;32mreturn\u001b[0m \u001b[0;32mFalse\u001b[0m\u001b[0;34m\u001b[0m\u001b[0;34m\u001b[0m\u001b[0m\n",
            "\u001b[0;32m/usr/local/lib/python3.7/dist-packages/numpy/core/_asarray.py\u001b[0m in \u001b[0;36masarray\u001b[0;34m(a, dtype, order)\u001b[0m\n\u001b[1;32m     81\u001b[0m \u001b[0;34m\u001b[0m\u001b[0m\n\u001b[1;32m     82\u001b[0m     \"\"\"\n\u001b[0;32m---> 83\u001b[0;31m     \u001b[0;32mreturn\u001b[0m \u001b[0marray\u001b[0m\u001b[0;34m(\u001b[0m\u001b[0ma\u001b[0m\u001b[0;34m,\u001b[0m \u001b[0mdtype\u001b[0m\u001b[0;34m,\u001b[0m \u001b[0mcopy\u001b[0m\u001b[0;34m=\u001b[0m\u001b[0;32mFalse\u001b[0m\u001b[0;34m,\u001b[0m \u001b[0morder\u001b[0m\u001b[0;34m=\u001b[0m\u001b[0morder\u001b[0m\u001b[0;34m)\u001b[0m\u001b[0;34m\u001b[0m\u001b[0;34m\u001b[0m\u001b[0m\n\u001b[0m\u001b[1;32m     84\u001b[0m \u001b[0;34m\u001b[0m\u001b[0m\n\u001b[1;32m     85\u001b[0m \u001b[0;34m\u001b[0m\u001b[0m\n",
            "\u001b[0;32m/usr/local/lib/python3.7/dist-packages/torch/tensor.py\u001b[0m in \u001b[0;36m__array__\u001b[0;34m(self, dtype)\u001b[0m\n\u001b[1;32m    619\u001b[0m             \u001b[0;32mreturn\u001b[0m \u001b[0mhandle_torch_function\u001b[0m\u001b[0;34m(\u001b[0m\u001b[0mTensor\u001b[0m\u001b[0;34m.\u001b[0m\u001b[0m__array__\u001b[0m\u001b[0;34m,\u001b[0m \u001b[0;34m(\u001b[0m\u001b[0mself\u001b[0m\u001b[0;34m,\u001b[0m\u001b[0;34m)\u001b[0m\u001b[0;34m,\u001b[0m \u001b[0mself\u001b[0m\u001b[0;34m,\u001b[0m \u001b[0mdtype\u001b[0m\u001b[0;34m=\u001b[0m\u001b[0mdtype\u001b[0m\u001b[0;34m)\u001b[0m\u001b[0;34m\u001b[0m\u001b[0;34m\u001b[0m\u001b[0m\n\u001b[1;32m    620\u001b[0m         \u001b[0;32mif\u001b[0m \u001b[0mdtype\u001b[0m \u001b[0;32mis\u001b[0m \u001b[0;32mNone\u001b[0m\u001b[0;34m:\u001b[0m\u001b[0;34m\u001b[0m\u001b[0;34m\u001b[0m\u001b[0m\n\u001b[0;32m--> 621\u001b[0;31m             \u001b[0;32mreturn\u001b[0m \u001b[0mself\u001b[0m\u001b[0;34m.\u001b[0m\u001b[0mnumpy\u001b[0m\u001b[0;34m(\u001b[0m\u001b[0;34m)\u001b[0m\u001b[0;34m\u001b[0m\u001b[0;34m\u001b[0m\u001b[0m\n\u001b[0m\u001b[1;32m    622\u001b[0m         \u001b[0;32melse\u001b[0m\u001b[0;34m:\u001b[0m\u001b[0;34m\u001b[0m\u001b[0;34m\u001b[0m\u001b[0m\n\u001b[1;32m    623\u001b[0m             \u001b[0;32mreturn\u001b[0m \u001b[0mself\u001b[0m\u001b[0;34m.\u001b[0m\u001b[0mnumpy\u001b[0m\u001b[0;34m(\u001b[0m\u001b[0;34m)\u001b[0m\u001b[0;34m.\u001b[0m\u001b[0mastype\u001b[0m\u001b[0;34m(\u001b[0m\u001b[0mdtype\u001b[0m\u001b[0;34m,\u001b[0m \u001b[0mcopy\u001b[0m\u001b[0;34m=\u001b[0m\u001b[0;32mFalse\u001b[0m\u001b[0;34m)\u001b[0m\u001b[0;34m\u001b[0m\u001b[0;34m\u001b[0m\u001b[0m\n",
            "\u001b[0;31mTypeError\u001b[0m: can't convert cuda:0 device type tensor to numpy. Use Tensor.cpu() to copy the tensor to host memory first."
          ]
        }
      ]
    },
    {
      "cell_type": "code",
      "metadata": {
        "colab": {
          "base_uri": "https://localhost:8080/"
        },
        "id": "vB3xyffDgi9e",
        "outputId": "d7b14414-1695-445b-ffd4-9568a4660358"
      },
      "source": [
        "type(predictions)"
      ],
      "execution_count": 197,
      "outputs": [
        {
          "output_type": "execute_result",
          "data": {
            "text/plain": [
              "list"
            ]
          },
          "metadata": {
            "tags": []
          },
          "execution_count": 197
        }
      ]
    },
    {
      "cell_type": "code",
      "metadata": {
        "colab": {
          "base_uri": "https://localhost:8080/"
        },
        "id": "ERADfLfSg2HE",
        "outputId": "313dfd60-8207-4cde-8266-0de1c64f1cf7"
      },
      "source": [
        "type(y_test)"
      ],
      "execution_count": 198,
      "outputs": [
        {
          "output_type": "execute_result",
          "data": {
            "text/plain": [
              "torch.Tensor"
            ]
          },
          "metadata": {
            "tags": []
          },
          "execution_count": 198
        }
      ]
    },
    {
      "cell_type": "code",
      "metadata": {
        "id": "W8ZW9DTPhAfp"
      },
      "source": [
        "y_test1 = y_test.cpu().numpy()"
      ],
      "execution_count": 199,
      "outputs": []
    },
    {
      "cell_type": "code",
      "metadata": {
        "colab": {
          "base_uri": "https://localhost:8080/"
        },
        "id": "DOMIwMW_hB_4",
        "outputId": "a06ee626-8e05-4ce3-a060-2b30dab898f3"
      },
      "source": [
        "y_test1"
      ],
      "execution_count": 200,
      "outputs": [
        {
          "output_type": "execute_result",
          "data": {
            "text/plain": [
              "array([1, 0, 0, 1, 0, 0, 1, 1, 0, 0, 1, 1, 0, 0, 0, 0, 1, 0, 0, 0, 1, 1,\n",
              "       0, 0, 0, 0, 0, 0, 0, 0, 0, 0, 0, 0, 0, 1, 1, 0, 0, 0, 0, 0, 0, 1,\n",
              "       1, 0, 0, 1, 1, 1, 0, 0, 1, 0, 0, 0, 0, 1, 1, 1, 1, 0, 0, 1, 1, 1,\n",
              "       1, 0, 0, 0, 0, 0, 0, 0, 1, 0, 0, 0, 0, 0, 0, 0, 0, 0, 0, 0, 1, 0,\n",
              "       1, 0, 0, 0, 0, 0, 0, 0, 1, 0, 1, 1, 0, 0, 0, 0, 0, 1, 0, 0, 0, 1,\n",
              "       0, 1, 1, 1, 1, 1, 0, 0, 0, 1, 0, 0, 0, 0, 0, 0, 0, 1, 0, 0, 0, 0,\n",
              "       0, 1, 0, 1, 0, 1, 1, 0, 0, 0, 0, 0, 1, 0, 0, 0, 0, 1, 0, 1, 0, 0])"
            ]
          },
          "metadata": {
            "tags": []
          },
          "execution_count": 200
        }
      ]
    },
    {
      "cell_type": "code",
      "metadata": {
        "id": "qmKrzf71hDx2"
      },
      "source": [
        "import numpy as np\n",
        "predictions1 = np.array(predictions)"
      ],
      "execution_count": 201,
      "outputs": []
    },
    {
      "cell_type": "code",
      "metadata": {
        "colab": {
          "base_uri": "https://localhost:8080/"
        },
        "id": "vzXvHJqqhgYh",
        "outputId": "9c0c73f4-1411-49bd-da45-795514d4f0f9"
      },
      "source": [
        "from sklearn.metrics import confusion_matrix\n",
        "cm=confusion_matrix(y_test1,predictions1)\n",
        "cm"
      ],
      "execution_count": 202,
      "outputs": [
        {
          "output_type": "execute_result",
          "data": {
            "text/plain": [
              "array([[83, 24],\n",
              "       [18, 29]])"
            ]
          },
          "metadata": {
            "tags": []
          },
          "execution_count": 202
        }
      ]
    },
    {
      "cell_type": "code",
      "metadata": {
        "colab": {
          "base_uri": "https://localhost:8080/",
          "height": 405
        },
        "id": "UtcYwSzkid2v",
        "outputId": "e7de4777-705b-419f-bc7b-18636d9018b3"
      },
      "source": [
        "import seaborn as sns\n",
        "plt.figure(figsize=(10,6))\n",
        "sns.heatmap(cm,annot=True)\n",
        "plt.xlabel('Actual Values')\n",
        "plt.ylabel('Predicted Values')"
      ],
      "execution_count": 203,
      "outputs": [
        {
          "output_type": "execute_result",
          "data": {
            "text/plain": [
              "Text(69.0, 0.5, 'Predicted Values')"
            ]
          },
          "metadata": {
            "tags": []
          },
          "execution_count": 203
        },
        {
          "output_type": "display_data",
          "data": {
            "image/png": "[encoded data removed]",
            "text/plain": [
              "<Figure size 720x432 with 2 Axes>"
            ]
          },
          "metadata": {
            "tags": [],
            "needs_background": "light"
          }
        }
      ]
    },
    {
      "cell_type": "code",
      "metadata": {
        "colab": {
          "base_uri": "https://localhost:8080/"
        },
        "id": "DuWUPT-bihjn",
        "outputId": "7be03ca7-c85e-407f-f1ec-7eca8defd269"
      },
      "source": [
        "from sklearn.metrics import accuracy_score\n",
        "score=accuracy_score(y_test1,predictions1)\n",
        "score"
      ],
      "execution_count": 204,
      "outputs": [
        {
          "output_type": "execute_result",
          "data": {
            "text/plain": [
              "0.7272727272727273"
            ]
          },
          "metadata": {
            "tags": []
          },
          "execution_count": 204
        }
      ]
    },
    {
      "cell_type": "code",
      "metadata": {
        "id": "vAuE2gjXisT6"
      },
      "source": [
        ""
      ],
      "execution_count": null,
      "outputs": []
    }
  ]
}